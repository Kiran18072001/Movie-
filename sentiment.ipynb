{
 "cells": [
  {
   "cell_type": "code",
   "execution_count": 16,
   "metadata": {},
   "outputs": [],
   "source": [
    "import numpy as np\n",
    "import pandas as pd\n",
    "from flask import Flask, render_template, request\n",
    "from sklearn.feature_extraction.text import CountVectorizer\n",
    "from sklearn.metrics.pairwise import cosine_similarity\n",
    "import json\n",
    "import bs4 as bs\n",
    "import urllib.request\n",
    "import pickle\n",
    "import requests"
   ]
  },
  {
   "cell_type": "code",
   "execution_count": 2,
   "metadata": {},
   "outputs": [
    {
     "name": "stderr",
     "output_type": "stream",
     "text": [
      "[nltk_data] Downloading package stopwords to\n",
      "[nltk_data]     C:\\Users\\Hemant\\AppData\\Roaming\\nltk_data...\n",
      "[nltk_data]   Package stopwords is already up-to-date!\n"
     ]
    },
    {
     "data": {
      "text/plain": [
       "True"
      ]
     },
     "execution_count": 2,
     "metadata": {},
     "output_type": "execute_result"
    }
   ],
   "source": [
    "nltk.download(\"stopwords\")"
   ]
  },
  {
   "cell_type": "code",
   "execution_count": 4,
   "metadata": {},
   "outputs": [],
   "source": [
    "dataset = pd.read_csv('C:\\\\Users\\\\Hemant\\\\Desktop\\\\Projects\\\\Recomeend\\\\AJAX-Movie-Recommendation-System-with-Sentiment-Analysis-master\\\\datasets\\\\reviews.txt',sep = '\\t', names =['Reviews','Comments'])"
   ]
  },
  {
   "cell_type": "code",
   "execution_count": 5,
   "metadata": {},
   "outputs": [
    {
     "data": {
      "text/html": [
       "<div>\n",
       "<style scoped>\n",
       "    .dataframe tbody tr th:only-of-type {\n",
       "        vertical-align: middle;\n",
       "    }\n",
       "\n",
       "    .dataframe tbody tr th {\n",
       "        vertical-align: top;\n",
       "    }\n",
       "\n",
       "    .dataframe thead th {\n",
       "        text-align: right;\n",
       "    }\n",
       "</style>\n",
       "<table border=\"1\" class=\"dataframe\">\n",
       "  <thead>\n",
       "    <tr style=\"text-align: right;\">\n",
       "      <th></th>\n",
       "      <th>Reviews</th>\n",
       "      <th>Comments</th>\n",
       "    </tr>\n",
       "  </thead>\n",
       "  <tbody>\n",
       "    <tr>\n",
       "      <th>0</th>\n",
       "      <td>1</td>\n",
       "      <td>The Da Vinci Code book is just awesome.</td>\n",
       "    </tr>\n",
       "    <tr>\n",
       "      <th>1</th>\n",
       "      <td>1</td>\n",
       "      <td>this was the first clive cussler i've ever rea...</td>\n",
       "    </tr>\n",
       "    <tr>\n",
       "      <th>2</th>\n",
       "      <td>1</td>\n",
       "      <td>i liked the Da Vinci Code a lot.</td>\n",
       "    </tr>\n",
       "    <tr>\n",
       "      <th>3</th>\n",
       "      <td>1</td>\n",
       "      <td>i liked the Da Vinci Code a lot.</td>\n",
       "    </tr>\n",
       "    <tr>\n",
       "      <th>4</th>\n",
       "      <td>1</td>\n",
       "      <td>I liked the Da Vinci Code but it ultimatly did...</td>\n",
       "    </tr>\n",
       "    <tr>\n",
       "      <th>...</th>\n",
       "      <td>...</td>\n",
       "      <td>...</td>\n",
       "    </tr>\n",
       "    <tr>\n",
       "      <th>6913</th>\n",
       "      <td>0</td>\n",
       "      <td>Brokeback Mountain was boring.</td>\n",
       "    </tr>\n",
       "    <tr>\n",
       "      <th>6914</th>\n",
       "      <td>0</td>\n",
       "      <td>So Brokeback Mountain was really depressing.</td>\n",
       "    </tr>\n",
       "    <tr>\n",
       "      <th>6915</th>\n",
       "      <td>0</td>\n",
       "      <td>As I sit here, watching the MTV Movie Awards, ...</td>\n",
       "    </tr>\n",
       "    <tr>\n",
       "      <th>6916</th>\n",
       "      <td>0</td>\n",
       "      <td>Ok brokeback mountain is such a horrible movie.</td>\n",
       "    </tr>\n",
       "    <tr>\n",
       "      <th>6917</th>\n",
       "      <td>0</td>\n",
       "      <td>Oh, and Brokeback Mountain was a terrible movie.</td>\n",
       "    </tr>\n",
       "  </tbody>\n",
       "</table>\n",
       "<p>6918 rows × 2 columns</p>\n",
       "</div>"
      ],
      "text/plain": [
       "      Reviews                                           Comments\n",
       "0           1            The Da Vinci Code book is just awesome.\n",
       "1           1  this was the first clive cussler i've ever rea...\n",
       "2           1                   i liked the Da Vinci Code a lot.\n",
       "3           1                   i liked the Da Vinci Code a lot.\n",
       "4           1  I liked the Da Vinci Code but it ultimatly did...\n",
       "...       ...                                                ...\n",
       "6913        0                     Brokeback Mountain was boring.\n",
       "6914        0       So Brokeback Mountain was really depressing.\n",
       "6915        0  As I sit here, watching the MTV Movie Awards, ...\n",
       "6916        0    Ok brokeback mountain is such a horrible movie.\n",
       "6917        0   Oh, and Brokeback Mountain was a terrible movie.\n",
       "\n",
       "[6918 rows x 2 columns]"
      ]
     },
     "execution_count": 5,
     "metadata": {},
     "output_type": "execute_result"
    }
   ],
   "source": [
    "dataset"
   ]
  },
  {
   "cell_type": "code",
   "execution_count": 6,
   "metadata": {},
   "outputs": [],
   "source": [
    "stopset = set(stopwords.words('english'))"
   ]
  },
  {
   "cell_type": "code",
   "execution_count": 7,
   "metadata": {},
   "outputs": [],
   "source": [
    "vectorizer = TfidfVectorizer(use_idf = True,lowercase = True, strip_accents='ascii',stop_words=stopset)"
   ]
  },
  {
   "cell_type": "code",
   "execution_count": 8,
   "metadata": {},
   "outputs": [],
   "source": [
    "X = vectorizer.fit_transform(dataset.Comments)\n",
    "y = dataset.Reviews\n",
    "pickle.dump(vectorizer, open('tranform.pkl', 'wb'))"
   ]
  },
  {
   "cell_type": "code",
   "execution_count": 9,
   "metadata": {},
   "outputs": [],
   "source": [
    "X_train, X_test, y_train, y_test = train_test_split(X, y, test_size=0.20, random_state=42)"
   ]
  },
  {
   "cell_type": "code",
   "execution_count": 10,
   "metadata": {},
   "outputs": [
    {
     "data": {
      "text/plain": [
       "MultinomialNB()"
      ]
     },
     "execution_count": 10,
     "metadata": {},
     "output_type": "execute_result"
    }
   ],
   "source": [
    "clf = naive_bayes.MultinomialNB()\n",
    "clf.fit(X_train,y_train)"
   ]
  },
  {
   "cell_type": "code",
   "execution_count": 11,
   "metadata": {},
   "outputs": [
    {
     "data": {
      "text/plain": [
       "97.47109826589595"
      ]
     },
     "execution_count": 11,
     "metadata": {},
     "output_type": "execute_result"
    }
   ],
   "source": [
    "accuracy_score(y_test,clf.predict(X_test))*100"
   ]
  },
  {
   "cell_type": "code",
   "execution_count": 12,
   "metadata": {},
   "outputs": [
    {
     "data": {
      "text/plain": [
       "MultinomialNB()"
      ]
     },
     "execution_count": 12,
     "metadata": {},
     "output_type": "execute_result"
    }
   ],
   "source": [
    "clf = naive_bayes.MultinomialNB()\n",
    "clf.fit(X,y)"
   ]
  },
  {
   "cell_type": "code",
   "execution_count": 13,
   "metadata": {},
   "outputs": [
    {
     "data": {
      "text/plain": [
       "98.77167630057804"
      ]
     },
     "execution_count": 13,
     "metadata": {},
     "output_type": "execute_result"
    }
   ],
   "source": [
    "accuracy_score(y_test,clf.predict(X_test))*100"
   ]
  },
  {
   "cell_type": "code",
   "execution_count": 14,
   "metadata": {},
   "outputs": [],
   "source": [
    "filename = 'nlp_model.pkl'\n",
    "pickle.dump(clf, open(filename, 'wb'))"
   ]
  },
  {
   "cell_type": "code",
   "execution_count": 2,
   "metadata": {},
   "outputs": [
    {
     "name": "stdout",
     "output_type": "stream",
     "text": [
      "Requirement already satisfied: streamlit in c:\\users\\hemant\\anaconda3\\lib\\site-packages (0.69.2)\n",
      "Requirement already satisfied: click>=7.0 in c:\\users\\hemant\\anaconda3\\lib\\site-packages (from streamlit) (7.0)\n",
      "Requirement already satisfied: numpy in c:\\users\\hemant\\anaconda3\\lib\\site-packages (from streamlit) (1.19.0)\n",
      "Requirement already satisfied: botocore>=1.13.44 in c:\\users\\hemant\\anaconda3\\lib\\site-packages (from streamlit) (1.18.18)\n",
      "Requirement already satisfied: validators in c:\\users\\hemant\\anaconda3\\lib\\site-packages (from streamlit) (0.18.1)\n",
      "Requirement already satisfied: packaging in c:\\users\\hemant\\anaconda3\\lib\\site-packages (from streamlit) (19.2)\n",
      "Requirement already satisfied: toml in c:\\users\\hemant\\anaconda3\\lib\\site-packages (from streamlit) (0.10.1)\n",
      "Requirement already satisfied: tzlocal in c:\\users\\hemant\\anaconda3\\lib\\site-packages (from streamlit) (2.1)\n",
      "Requirement already satisfied: cachetools>=4.0 in c:\\users\\hemant\\anaconda3\\lib\\site-packages (from streamlit) (4.1.1)\n",
      "Requirement already satisfied: gitpython in c:\\users\\hemant\\anaconda3\\lib\\site-packages (from streamlit) (3.1.9)\n",
      "Requirement already satisfied: enum-compat in c:\\users\\hemant\\anaconda3\\lib\\site-packages (from streamlit) (0.0.3)\n",
      "Requirement already satisfied: astor in c:\\users\\hemant\\anaconda3\\lib\\site-packages (from streamlit) (0.8.1)\n",
      "Requirement already satisfied: blinker in c:\\users\\hemant\\anaconda3\\lib\\site-packages (from streamlit) (1.4)\n",
      "Requirement already satisfied: pillow>=6.2.0 in c:\\users\\hemant\\anaconda3\\lib\\site-packages (from streamlit) (6.2.0)\n",
      "Requirement already satisfied: tornado>=5.0 in c:\\users\\hemant\\anaconda3\\lib\\site-packages (from streamlit) (6.0.3)\n",
      "Requirement already satisfied: protobuf>=3.6.0 in c:\\users\\hemant\\anaconda3\\lib\\site-packages (from streamlit) (3.13.0)\n",
      "Requirement already satisfied: pandas>=0.21.0 in c:\\users\\hemant\\anaconda3\\lib\\site-packages (from streamlit) (0.25.1)\n",
      "Requirement already satisfied: altair>=3.2.0 in c:\\users\\hemant\\anaconda3\\lib\\site-packages (from streamlit) (4.1.0)\n",
      "Requirement already satisfied: python-dateutil in c:\\users\\hemant\\anaconda3\\lib\\site-packages (from streamlit) (2.8.0)\n",
      "Requirement already satisfied: boto3 in c:\\users\\hemant\\anaconda3\\lib\\site-packages (from streamlit) (1.15.18)\n",
      "Requirement already satisfied: pyarrow in c:\\users\\hemant\\anaconda3\\lib\\site-packages (from streamlit) (1.0.1)\n",
      "Requirement already satisfied: requests in c:\\users\\hemant\\anaconda3\\lib\\site-packages (from streamlit) (2.22.0)\n",
      "Requirement already satisfied: watchdog in c:\\users\\hemant\\anaconda3\\lib\\site-packages (from streamlit) (0.10.3)\n",
      "Requirement already satisfied: pydeck>=0.1.dev5 in c:\\users\\hemant\\anaconda3\\lib\\site-packages (from streamlit) (0.5.0b1)\n",
      "Requirement already satisfied: base58 in c:\\users\\hemant\\anaconda3\\lib\\site-packages (from streamlit) (2.0.1)\n",
      "Requirement already satisfied: jmespath<1.0.0,>=0.7.1 in c:\\users\\hemant\\anaconda3\\lib\\site-packages (from botocore>=1.13.44->streamlit) (0.10.0)\n",
      "Requirement already satisfied: urllib3<1.26,>=1.20; python_version != \"3.4\" in c:\\users\\hemant\\anaconda3\\lib\\site-packages (from botocore>=1.13.44->streamlit) (1.25.10)\n",
      "Requirement already satisfied: six>=1.4.0 in c:\\users\\hemant\\anaconda3\\lib\\site-packages (from validators->streamlit) (1.12.0)\n",
      "Requirement already satisfied: decorator>=3.4.0 in c:\\users\\hemant\\anaconda3\\lib\\site-packages (from validators->streamlit) (4.4.0)\n",
      "Requirement already satisfied: pyparsing>=2.0.2 in c:\\users\\hemant\\anaconda3\\lib\\site-packages (from packaging->streamlit) (2.4.2)\n",
      "Requirement already satisfied: pytz in c:\\users\\hemant\\anaconda3\\lib\\site-packages (from tzlocal->streamlit) (2019.3)\n",
      "Requirement already satisfied: gitdb<5,>=4.0.1 in c:\\users\\hemant\\anaconda3\\lib\\site-packages (from gitpython->streamlit) (4.0.5)\n",
      "Requirement already satisfied: setuptools in c:\\users\\hemant\\anaconda3\\lib\\site-packages (from protobuf>=3.6.0->streamlit) (41.4.0)\n",
      "Requirement already satisfied: jinja2 in c:\\users\\hemant\\anaconda3\\lib\\site-packages (from altair>=3.2.0->streamlit) (2.10.3)\n",
      "Requirement already satisfied: toolz in c:\\users\\hemant\\anaconda3\\lib\\site-packages (from altair>=3.2.0->streamlit) (0.10.0)\n",
      "Requirement already satisfied: jsonschema in c:\\users\\hemant\\anaconda3\\lib\\site-packages (from altair>=3.2.0->streamlit) (3.0.2)\n",
      "Requirement already satisfied: entrypoints in c:\\users\\hemant\\anaconda3\\lib\\site-packages (from altair>=3.2.0->streamlit) (0.3)\n",
      "Requirement already satisfied: s3transfer<0.4.0,>=0.3.0 in c:\\users\\hemant\\anaconda3\\lib\\site-packages (from boto3->streamlit) (0.3.3)\n",
      "Requirement already satisfied: certifi>=2017.4.17 in c:\\users\\hemant\\anaconda3\\lib\\site-packages (from requests->streamlit) (2019.9.11)\n",
      "Requirement already satisfied: chardet<3.1.0,>=3.0.2 in c:\\users\\hemant\\anaconda3\\lib\\site-packages (from requests->streamlit) (3.0.4)\n",
      "Requirement already satisfied: idna<2.9,>=2.5 in c:\\users\\hemant\\anaconda3\\lib\\site-packages (from requests->streamlit) (2.8)\n",
      "Requirement already satisfied: pathtools>=0.1.1 in c:\\users\\hemant\\anaconda3\\lib\\site-packages (from watchdog->streamlit) (0.1.2)\n",
      "Requirement already satisfied: traitlets>=4.3.2 in c:\\users\\hemant\\anaconda3\\lib\\site-packages (from pydeck>=0.1.dev5->streamlit) (4.3.3)\n",
      "Requirement already satisfied: ipywidgets>=7.0.0 in c:\\users\\hemant\\anaconda3\\lib\\site-packages (from pydeck>=0.1.dev5->streamlit) (7.5.1)\n",
      "Requirement already satisfied: ipykernel>=5.1.2; python_version >= \"3.4\" in c:\\users\\hemant\\anaconda3\\lib\\site-packages (from pydeck>=0.1.dev5->streamlit) (5.1.2)\n",
      "Requirement already satisfied: smmap<4,>=3.0.1 in c:\\users\\hemant\\anaconda3\\lib\\site-packages (from gitdb<5,>=4.0.1->gitpython->streamlit) (3.0.4)\n",
      "Requirement already satisfied: MarkupSafe>=0.23 in c:\\users\\hemant\\anaconda3\\lib\\site-packages (from jinja2->altair>=3.2.0->streamlit) (1.1.1)\n",
      "Requirement already satisfied: pyrsistent>=0.14.0 in c:\\users\\hemant\\anaconda3\\lib\\site-packages (from jsonschema->altair>=3.2.0->streamlit) (0.15.4)\n",
      "Requirement already satisfied: attrs>=17.4.0 in c:\\users\\hemant\\anaconda3\\lib\\site-packages (from jsonschema->altair>=3.2.0->streamlit) (19.2.0)\n",
      "Requirement already satisfied: ipython-genutils in c:\\users\\hemant\\anaconda3\\lib\\site-packages (from traitlets>=4.3.2->pydeck>=0.1.dev5->streamlit) (0.2.0)\n",
      "Requirement already satisfied: widgetsnbextension~=3.5.0 in c:\\users\\hemant\\anaconda3\\lib\\site-packages (from ipywidgets>=7.0.0->pydeck>=0.1.dev5->streamlit) (3.5.1)\n",
      "Requirement already satisfied: ipython>=4.0.0; python_version >= \"3.3\" in c:\\users\\hemant\\anaconda3\\lib\\site-packages (from ipywidgets>=7.0.0->pydeck>=0.1.dev5->streamlit) (7.8.0)\n",
      "Requirement already satisfied: nbformat>=4.2.0 in c:\\users\\hemant\\anaconda3\\lib\\site-packages (from ipywidgets>=7.0.0->pydeck>=0.1.dev5->streamlit) (4.4.0)\n",
      "Requirement already satisfied: jupyter-client in c:\\users\\hemant\\anaconda3\\lib\\site-packages (from ipykernel>=5.1.2; python_version >= \"3.4\"->pydeck>=0.1.dev5->streamlit) (5.3.3)\n",
      "Requirement already satisfied: notebook>=4.4.1 in c:\\users\\hemant\\anaconda3\\lib\\site-packages (from widgetsnbextension~=3.5.0->ipywidgets>=7.0.0->pydeck>=0.1.dev5->streamlit) (6.0.1)\n",
      "Requirement already satisfied: jedi>=0.10 in c:\\users\\hemant\\anaconda3\\lib\\site-packages (from ipython>=4.0.0; python_version >= \"3.3\"->ipywidgets>=7.0.0->pydeck>=0.1.dev5->streamlit) (0.15.1)\n",
      "Requirement already satisfied: backcall in c:\\users\\hemant\\anaconda3\\lib\\site-packages (from ipython>=4.0.0; python_version >= \"3.3\"->ipywidgets>=7.0.0->pydeck>=0.1.dev5->streamlit) (0.1.0)\n",
      "Requirement already satisfied: pickleshare in c:\\users\\hemant\\anaconda3\\lib\\site-packages (from ipython>=4.0.0; python_version >= \"3.3\"->ipywidgets>=7.0.0->pydeck>=0.1.dev5->streamlit) (0.7.5)\n",
      "Requirement already satisfied: prompt-toolkit<2.1.0,>=2.0.0 in c:\\users\\hemant\\anaconda3\\lib\\site-packages (from ipython>=4.0.0; python_version >= \"3.3\"->ipywidgets>=7.0.0->pydeck>=0.1.dev5->streamlit) (2.0.10)\n",
      "Requirement already satisfied: pygments in c:\\users\\hemant\\anaconda3\\lib\\site-packages (from ipython>=4.0.0; python_version >= \"3.3\"->ipywidgets>=7.0.0->pydeck>=0.1.dev5->streamlit) (2.4.2)\n",
      "Requirement already satisfied: colorama; sys_platform == \"win32\" in c:\\users\\hemant\\anaconda3\\lib\\site-packages (from ipython>=4.0.0; python_version >= \"3.3\"->ipywidgets>=7.0.0->pydeck>=0.1.dev5->streamlit) (0.4.1)\n",
      "Requirement already satisfied: jupyter-core in c:\\users\\hemant\\anaconda3\\lib\\site-packages (from nbformat>=4.2.0->ipywidgets>=7.0.0->pydeck>=0.1.dev5->streamlit) (4.5.0)\n",
      "Requirement already satisfied: pyzmq>=13 in c:\\users\\hemant\\anaconda3\\lib\\site-packages (from jupyter-client->ipykernel>=5.1.2; python_version >= \"3.4\"->pydeck>=0.1.dev5->streamlit) (18.1.0)\n",
      "Requirement already satisfied: pywin32>=1.0; sys_platform == \"win32\" in c:\\users\\hemant\\anaconda3\\lib\\site-packages (from jupyter-client->ipykernel>=5.1.2; python_version >= \"3.4\"->pydeck>=0.1.dev5->streamlit) (223)\n",
      "Requirement already satisfied: terminado>=0.8.1 in c:\\users\\hemant\\anaconda3\\lib\\site-packages (from notebook>=4.4.1->widgetsnbextension~=3.5.0->ipywidgets>=7.0.0->pydeck>=0.1.dev5->streamlit) (0.8.2)\n",
      "Requirement already satisfied: prometheus-client in c:\\users\\hemant\\anaconda3\\lib\\site-packages (from notebook>=4.4.1->widgetsnbextension~=3.5.0->ipywidgets>=7.0.0->pydeck>=0.1.dev5->streamlit) (0.7.1)\n",
      "Requirement already satisfied: Send2Trash in c:\\users\\hemant\\anaconda3\\lib\\site-packages (from notebook>=4.4.1->widgetsnbextension~=3.5.0->ipywidgets>=7.0.0->pydeck>=0.1.dev5->streamlit) (1.5.0)\n",
      "Requirement already satisfied: nbconvert in c:\\users\\hemant\\anaconda3\\lib\\site-packages (from notebook>=4.4.1->widgetsnbextension~=3.5.0->ipywidgets>=7.0.0->pydeck>=0.1.dev5->streamlit) (5.6.0)\n",
      "Requirement already satisfied: parso>=0.5.0 in c:\\users\\hemant\\anaconda3\\lib\\site-packages (from jedi>=0.10->ipython>=4.0.0; python_version >= \"3.3\"->ipywidgets>=7.0.0->pydeck>=0.1.dev5->streamlit) (0.5.1)\n",
      "Requirement already satisfied: wcwidth in c:\\users\\hemant\\anaconda3\\lib\\site-packages (from prompt-toolkit<2.1.0,>=2.0.0->ipython>=4.0.0; python_version >= \"3.3\"->ipywidgets>=7.0.0->pydeck>=0.1.dev5->streamlit) (0.1.7)\n",
      "Requirement already satisfied: mistune<2,>=0.8.1 in c:\\users\\hemant\\anaconda3\\lib\\site-packages (from nbconvert->notebook>=4.4.1->widgetsnbextension~=3.5.0->ipywidgets>=7.0.0->pydeck>=0.1.dev5->streamlit) (0.8.4)\n",
      "Requirement already satisfied: testpath in c:\\users\\hemant\\anaconda3\\lib\\site-packages (from nbconvert->notebook>=4.4.1->widgetsnbextension~=3.5.0->ipywidgets>=7.0.0->pydeck>=0.1.dev5->streamlit) (0.4.2)\n",
      "Requirement already satisfied: pandocfilters>=1.4.1 in c:\\users\\hemant\\anaconda3\\lib\\site-packages (from nbconvert->notebook>=4.4.1->widgetsnbextension~=3.5.0->ipywidgets>=7.0.0->pydeck>=0.1.dev5->streamlit) (1.4.2)\n",
      "Requirement already satisfied: defusedxml in c:\\users\\hemant\\anaconda3\\lib\\site-packages (from nbconvert->notebook>=4.4.1->widgetsnbextension~=3.5.0->ipywidgets>=7.0.0->pydeck>=0.1.dev5->streamlit) (0.6.0)\n",
      "Requirement already satisfied: bleach in c:\\users\\hemant\\anaconda3\\lib\\site-packages (from nbconvert->notebook>=4.4.1->widgetsnbextension~=3.5.0->ipywidgets>=7.0.0->pydeck>=0.1.dev5->streamlit) (3.1.0)\n",
      "Requirement already satisfied: webencodings in c:\\users\\hemant\\anaconda3\\lib\\site-packages (from bleach->nbconvert->notebook>=4.4.1->widgetsnbextension~=3.5.0->ipywidgets>=7.0.0->pydeck>=0.1.dev5->streamlit) (0.5.1)\n",
      "Note: you may need to restart the kernel to use updated packages.\n"
     ]
    }
   ],
   "source": [
    "pip install streamlit"
   ]
  },
  {
   "cell_type": "code",
   "execution_count": 70,
   "metadata": {},
   "outputs": [],
   "source": [
    "from bs4 import BeautifulSoup as soup"
   ]
  },
  {
   "cell_type": "code",
   "execution_count": 71,
   "metadata": {},
   "outputs": [],
   "source": [
    "link = 'https://www.imdb.com/title/tt0499549/reviews?ref_=tt_ov_rt'"
   ]
  },
  {
   "cell_type": "code",
   "execution_count": 72,
   "metadata": {},
   "outputs": [],
   "source": [
    "page = requests.get(link)"
   ]
  },
  {
   "cell_type": "code",
   "execution_count": 74,
   "metadata": {},
   "outputs": [],
   "source": [
    "page_soup = soup(page.content,\"html.parser\",)"
   ]
  },
  {
   "cell_type": "code",
   "execution_count": 76,
   "metadata": {},
   "outputs": [],
   "source": [
    "content = page_soup.find_all(\"div\",{\"class\":\"text show-more__control\"})"
   ]
  },
  {
   "cell_type": "code",
   "execution_count": 90,
   "metadata": {},
   "outputs": [],
   "source": [
    "df_review = pd.DataFrame(columns= [\"Review\",\"Sentiments\"],data=list(zip(reviews_list, reviews_status)),index=)"
   ]
  },
  {
   "cell_type": "code",
   "execution_count": 93,
   "metadata": {},
   "outputs": [
    {
     "data": {
      "text/html": [
       "<div>\n",
       "<style scoped>\n",
       "    .dataframe tbody tr th:only-of-type {\n",
       "        vertical-align: middle;\n",
       "    }\n",
       "\n",
       "    .dataframe tbody tr th {\n",
       "        vertical-align: top;\n",
       "    }\n",
       "\n",
       "    .dataframe thead th {\n",
       "        text-align: right;\n",
       "    }\n",
       "</style>\n",
       "<table border=\"1\" class=\"dataframe\">\n",
       "  <thead>\n",
       "    <tr style=\"text-align: right;\">\n",
       "      <th></th>\n",
       "      <th>Review</th>\n",
       "      <th>Sentiments</th>\n",
       "    </tr>\n",
       "  </thead>\n",
       "  <tbody>\n",
       "    <tr>\n",
       "      <th>1</th>\n",
       "      <td>I realize I am probably going to get flames ga...</td>\n",
       "      <td>Good</td>\n",
       "    </tr>\n",
       "  </tbody>\n",
       "</table>\n",
       "</div>"
      ],
      "text/plain": [
       "                                              Review Sentiments\n",
       "1  I realize I am probably going to get flames ga...       Good"
      ]
     },
     "execution_count": 93,
     "metadata": {},
     "output_type": "execute_result"
    }
   ],
   "source": [
    "df_review[1:2]"
   ]
  },
  {
   "cell_type": "code",
   "execution_count": 96,
   "metadata": {},
   "outputs": [
    {
     "data": {
      "text/html": [
       "<style  type=\"text/css\" >\n",
       "</style><table id=\"T_7f8f39b6_1428_11eb_b4d7_cc2f716c60c3\" ><thead>    <tr>        <th class=\"col_heading level0 col0\" >Review</th>        <th class=\"col_heading level0 col1\" >Sentiments</th>    </tr></thead><tbody>\n",
       "                <tr>\n",
       "                                <td id=\"T_7f8f39b6_1428_11eb_b4d7_cc2f716c60c3row0_col0\" class=\"data row0 col0\" >Avatar tells a familiar story but its a story that works so well inside of this movie. The visuals and 3d are still one of the best to date and i totally get why it made so much money.</td>\n",
       "                        <td id=\"T_7f8f39b6_1428_11eb_b4d7_cc2f716c60c3row0_col1\" class=\"data row0 col1\" >Good</td>\n",
       "            </tr>\n",
       "            <tr>\n",
       "                                <td id=\"T_7f8f39b6_1428_11eb_b4d7_cc2f716c60c3row1_col0\" class=\"data row1 col0\" >I realize I am probably going to get flames galore for this comment, and you all have the right to your opinion about my opinion, but hey, I'm entitled to my opinion too. Avatar is grade A crap. That's right, it's crap. I say this for one simple reason: Without the special effects this movie would never, ever captivate and take a hold of audiences like it has in the past week. Ask yourself this one question: If it didn't have the effects, the Navi plugging their hair into the trees like it's a damn broadband jack, mech suits(just like the ones in Matrix Revolutions) and barely futuristic ospreys, would you care about this movie at all? It's a truism when they say this movie is nothing more than Dances with Wolves in space. Some people may argue back that Star Wars borrowed from Hidden fortress, but at least it had enough compelling plot points to make it look different, such as I don't know... the force? The Death Star? Outer space? A location that has NOTHING at all to do with Earth? This important set of points clearly differentiates Star Wars and Hidden Fortress. But The difference between Avatar and Dances with wolves is... CGI. This CGI may be pretty but it cannot ever substitute for story and plot development. Speaking of, the characters save but a few are either very bland or stereotypes. The worst part is the story and the movie gives us no reason to care about the characters. You know what? I'll go one step further and say that the only difference between Avatar and a Star Wars prequel is this: Avatar has an environmental story that we can relate to. That's it. True, the action scenes in Avatar are well done, but hell, the action scenes in the Star Wars prequels were also arguably well-done. Still, there's that nagging lack of story development. Avatar is a huge let-down and doesn't belong on the best-of list of anybody with common sense.</td>\n",
       "                        <td id=\"T_7f8f39b6_1428_11eb_b4d7_cc2f716c60c3row1_col1\" class=\"data row1 col1\" >Good</td>\n",
       "            </tr>\n",
       "            <tr>\n",
       "                                <td id=\"T_7f8f39b6_1428_11eb_b4d7_cc2f716c60c3row2_col0\" class=\"data row2 col0\" >Avatar tells a familiar story but its a story that works so well inside of this movie. The visuals and 3d are still one of the best to date and i totally get why it made so much money.</td>\n",
       "                        <td id=\"T_7f8f39b6_1428_11eb_b4d7_cc2f716c60c3row2_col1\" class=\"data row2 col1\" >Good</td>\n",
       "            </tr>\n",
       "            <tr>\n",
       "                                <td id=\"T_7f8f39b6_1428_11eb_b4d7_cc2f716c60c3row3_col0\" class=\"data row3 col0\" >I'm not exactly sure when it became a thing among my tribe of film geeks to bash 'Avatar'. I know it wasn't when it came out, because most of the film fans in my circle of nerdy friends went to watch it multiple times and couldn't get enough of it. In hindsight, I suspect it was around the time when everybody and their grandmother seemed to have seen it; somehow, once the film had become the most successful movie ever (unadjusted for inflation) it stopped being cool to like James Cameron's eco-sci-fi extravaganza.Nowadays the film is often brought up in snarky movie blogs as a typical example for a film with great effects but a dull story, unoriginal ideas and bland characters, as if this were somehow the general consensus among film aficionados. \"FernGully in space\" or \"Dances With Wolves with blue cat-people\" are some of the kinder descriptions the film has to endure - which in all honesty I don't get.I mean, it's fine not to like the movie (all art is subjective and all that), but how so many self-professed film experts now pretend this critically acclaimed picture - which on Metacritic is rated even higher than 'The Dark Knight' - was nothing but a bland, unoriginal, run-of-the-mill Hollywood blockbuster that only succeeded thanks to the (then) novelty of 3D is frankly beyond me.What I find even more astounding is how the very people who decry the lack of original, director-driven blockbusters in Hollywood are often the same who turn up their noses at 'Avatar': an original, director-driven blockbuster that came out when most other big budget movies were either sequels or adaptations of already existing intellectual properties. \"The ideas in the film are not original\", they claim. Come on guys, seriously?So you've seen a world like Pandora before? A bioluminescent visual wonder that merges the colorful marine life of coral reefs with the lush vegetation of tropical rain forests? A world where nature forms an actual neural network that stores memories and builds a collective consciousness? You've seen many films about a bio-database that people can plug themselves into via ancient trees and communicate with their ancestors?You've watched countless blockbusters that take place in an eco-system where you can form instant symbiosis with other creatures depending on your needs? And by the way: how many \"eco-sci-fi\" films have you seen? Such a worn-out concept and tired old sub-genre, right?No my friends, in terms of Hollywood blockbusters, these ideas and concepts are about as original as they come, and some of them are even inspired by actual biological phenomenons (like the discovery that the roots of trees do indeed form a sort of neural network in a symbiosis with fungi where they are able to store and exchange information). But what is true is that the filmmaker cleverly chose a very straight-forward story to get his environmentalist plea and anti-colonial, anti-imperialist message across and make some rather complex sci-fi ideas more accessible for a broad audience.To that end, the film uses certain well-known story tropes (\"the spy who changes sides once he falls in love with an enemy\"; \"the soldier who realizes he's been fighting for the wrong cause\"; \"the invader who gets to know and appreciate the foreign culture he's invading\" or the timeless trope of \"the fish out of water\"), but they are not what the film is about. And those tropes are not copied from 'Dances With Wolves' either - any more than that film stole them from 'Pocahontas': they are so universal you can find variations of any one of them in numerous legends and stories and thus also throughout film history, from 'Lawrence of Arabia' to 'Shogun' or 'The Last Samurai' and countless others.And yes, our heroes Jake and Neytiri are not the most complex of characters (though neither are they as bland as the film's most vicious detractors claim), but that's because they aren't really the film's main focus. 'Avatar's actual protagonist, it's true star if you will, is Pandora. It's the WORLD we get to experience through Jake's eyes that really matters here, and the film aims straight for your gut - not your sci-fi nerd brain (which I suspect is the actual reason why so many former Cameron fans - now - claim to be disappointed with the film).More than anything, 'Avatar' wants you to lose your heart to this beautiful planet that functions as an obvious stand-in for our own threatened world, and the film is an unapologetic, uncynical declaration of love to the wonders of nature - as well as a call to action to preserve them. Which on an emotional level works marvelously: nothing in the film is as painful and shocking as the destruction of a single big tree, which symbolizes quite literally nature as the home and shelter we depend upon. It's a genius scene, and I dare you to find an action blockbuster where the distruction of a city or a whole planet carries even a shred of the emotional heft that the falling of \"Home Tree\" does in Cameron's film.So again (I'm trying to hammer my point home here ;-), 'Avatar' is simple? Yes, but that's the point: the simplicity and familiarity of the story are deliberate; the themes are not just derivative re-treads, they're as universal as those in myths and fairy tales and thus speak to everyone. And that's exactly what Cameron's intention was: to use simple enough tropes and archetypes to convey a heart-felt message that would work across cultural borders and reach people all over the world. Which, given the film's success, it obviously did.Personally, I think 'Avatar' is a prime example of visual and emotional storytelling done right, and viewing it for the first time offers an experience that is almost without equal in its immersiveness. And while this may only have been my own individual experience, 'Avatar' was also the first movie in a long time that completely vowed me in the sense that I felt like a little kid again in the theater - which had very little to do with the novelty of 3D. It was also the last time a film managed to do that.And even in terms of pure entertainment the film is simply spectacular. It's a rousing adventure with gorgeous visuals and top-notch CGI, filled with fascinating creatures and jaw-dropping future-tech, and the final 40 minutes of the film provide an all out, non-stop sci-fi action thrill-ride on a scale the world had rarely - if ever - seen before.Obviously that doesn't mean it's a perfect film, and as I already pointed out, it's fair not to like it for any number of reasons (above all: personal taste), but 'Avatar' is far from deserving the kind of snark and ridicule it gets these days. Get over it people: simple doesn't equal simplistic, and the fact that 'Avatar' is neither subtle nor cynical doesn't make it dumb (even if it does make it harder for some of us nerds to like it wihtout feeling slightly embarassed ;-).In all honesty, I believe if this had been a slightly more obscure film - instead of the most successful movie of all time - many of the same people who hate on it now would hail it as an epic sci-fi adventure classic for the ages. And as far as I'm concerned, that's exactly what 'Avatar' is: a modern classic by a visionary filmmaker and true auteur. Rant over.</td>\n",
       "                        <td id=\"T_7f8f39b6_1428_11eb_b4d7_cc2f716c60c3row3_col1\" class=\"data row3 col1\" >Good</td>\n",
       "            </tr>\n",
       "            <tr>\n",
       "                                <td id=\"T_7f8f39b6_1428_11eb_b4d7_cc2f716c60c3row4_col0\" class=\"data row4 col0\" >I had the rather intense privilege to view James Cameron's much anticipated $400 million budget return to the directing scene, Avatar, at the Empire Leicester Square in London.Where to begin! The visuals in this pieces was groundbreaking. He did it with the Terminator series and then Titanic, so one would expect Cameron to deliver... and HE DID! The visual are by far some of the sharpest CGI I have seen. You could almost say that there is a disquiet that follows Cameron's soul, as there is no other possibility of this strong and intensified quality. Its production design and visual effects are both noteworthy and it will get its praise upon official release.What it was lacking that really should have shaped the movie is its character/story. I was expecting a complex and believable plot, but was left with a movie with mostly strong visuals. What most sci-fi lovers desire is mind-bending philosophies, fantasy and exploration and limitations of our or outer species. If it was not for this factor, I would give this a 9.5 vote.Avatar will be a success, not only because of Cameron's legacy, but by very intelligent and viral marketing. Avatar have had a powerful marketing technique that assembles other successful blockbusters, such as The Blair Witch project (you all remember it), The Dark Knight (Joker invades the world) and also, the current production The Artifice (the-artifice.com) that is intelligently targeting the market.Kudos to Cameron, Avatar is one of the (if not The) movie of the year. I could get in trouble for sharing this with you guys so early, so please click Yes on \"Was the above comment useful to you?\" as a thank you. ;)</td>\n",
       "                        <td id=\"T_7f8f39b6_1428_11eb_b4d7_cc2f716c60c3row4_col1\" class=\"data row4 col1\" >Bad</td>\n",
       "            </tr>\n",
       "            <tr>\n",
       "                                <td id=\"T_7f8f39b6_1428_11eb_b4d7_cc2f716c60c3row5_col0\" class=\"data row5 col0\" >Well, I just saw Avatar this morning, one of the press premieres which are running on these days. My opinion: you've seen this story a hundred times, but never like this. Finally 3D is what it's supposed to be, an instrument at the service of the movie. You'll enjoy the visual experience, no doubt.As for the story, some of the \"inspirations\" are so huge and so obvious that mentioning two or three of them would REALLY ruin the movie for you, and I'm not willing to do that. Lots of mysticism and ecology, if you like that stuff. If you're 15 or so, you'll have a great time thinking that it's the first time somebody makes something like this. If you're an experienced movie watcher, better leave your skepticism at the door, bring lots of pop corn and enjoy with the usual action-flick-with-moral-and-loads-of-clichés.I liked it, however: \"the movie that re-invents movies\"??? No way.</td>\n",
       "                        <td id=\"T_7f8f39b6_1428_11eb_b4d7_cc2f716c60c3row5_col1\" class=\"data row5 col1\" >Good</td>\n",
       "            </tr>\n",
       "            <tr>\n",
       "                                <td id=\"T_7f8f39b6_1428_11eb_b4d7_cc2f716c60c3row6_col0\" class=\"data row6 col0\" >Let me preface this by saying I am a huge James Cameron fan. I think \"Terminator\" is a masterpiece of sci-fi and the single best edited film of all time, \"Aliens\" is easily the best sequel not from the original director and I personally like it a lot more than the original. \"Abyss\" created an interesting world and was racked with tension, \"Terminator 2\" is an action tour-de-force and has what I believe the best sound editing/design of all time, \"True Lies\" is goofy fun, more poignant than most give it credit for with a boffo ending, and finally \"Titanic\" was far better than anyone expected it to be and has one of the most believable romances in a movie.So then there was the 12 year wait for \"Avatar\". No reviews, word of mouth, ticket price or natural disaster would keep me from the midnight IMAX 3D screening. I went with moderate expectations, which the film matched exactly. While this kept me from being disappointed it wasn't a good thing.Movie fans were on edge because if \"Avatar\" flops, it'll mean the death of creativity in a remake-happy Hollywood. That's a valid concern but the problem is nothing in \"Avatar\" is creative whatsoever. It is literally \"Dances with Wolves\" in space, right down to having a \"Wind in his Hair\" character as a foil to the \"new guy\".As the movie progressed it caused the worst of all bad reactions for me as a viewer - I started thinking about other things. Then I kept thinking \"well the end battle is supposed to be awesome\".SPOILER WARNING! (if for some reason you can't guess how this movie ends) End battle comes and the movie switches from being \"Dances with Wolves\" to Disney's \"Atlantis\" (but that's unfair since both of those movies contained far, FAR better musical scores) Gunship windows that were impervious to arrows a few scenes ago (to show Na'vi desperation) suddenly become brittle and break easily (to show Na'vi heroism). The battle isn't nearly as long as you'd expect, and nowhere near as epic / engaging as the finale of Return of the King. Finally there's a Robo-suit vs Navi fight and it is admittedly pretty good. Unlike 95% of directors these days Cameron knows enough to pull the camera back and let us SEE the fight. However it's an odd choice to spend millions on 10 foot tall \"creatures\" and then rarely even have them in the same frame as humans.And of course there's the obligatory scene where characters are dying in slow motion as Middle Eastern vocal music plays (see Gladiator or Munich) Wouldn't have been so bad if I hadn't said to my friend on the way there \"How much you wanna bet there's a part where characters die in slow motion over Middle Eastern music?\"As with most movies these days \"Avatar\" is far too long, glossing over important details (why is Earth dying, what does Unobtainium do, etc) and instead spending time on flight scenes, mystic ceremonies, spirit trees and nature bonding.Ultimately I just did not care. Since the dawn of cinema Hollywood recycles old ideas every few decades and slaps on a bigger budget / new stars / better effects so you won't notice. I can see re-doing \"Ben Hur\" with color and sound, but why do we need \"Dances with Wolves\" with 20 times the budget and blue Native Americans? No amount of impressive visuals, robo-suits, gunship battles, perfect character CGI or Sigorney Weaver can change the fact that I've seen this movie 100 times before. I could even accept the weak story if there were any characters to give a rat's ass about. This film is also dreadfully humorless, a stark contrast to \"Titanic\" where humor was one of its many surprises.Regarding 3D... I've seen many films in it now and honestly you don't even notice after the few minutes. It doesn't make the money any better or worse, just more expensive.Citizen Kane, The Robe, Sound of Music, Jaws, Star Wars, Batman, Toy Story, The Matrix... these movies changed movies. We can say that looking back now. \"Avatar\" saying it would ahead of time is pure hubris, \"unsinkable Titanic\"-like poppycock.But if expensive motion-capture being used to cover up a weak, generic story is the future of cinema then count me out, I'll stick with my PS3.</td>\n",
       "                        <td id=\"T_7f8f39b6_1428_11eb_b4d7_cc2f716c60c3row6_col1\" class=\"data row6 col1\" >Bad</td>\n",
       "            </tr>\n",
       "            <tr>\n",
       "                                <td id=\"T_7f8f39b6_1428_11eb_b4d7_cc2f716c60c3row7_col0\" class=\"data row7 col0\" >I was lucky to see Avatar at a pre-screening a few hours ago. It completely blew me and the whole room away and i dare to say it will do so to 80% of any audience anywhere. The remaining 20%, who always finds something to complain about, will whine about character development, dialog, story or the pop-corn.Well, let me tell you: they went to this movie with the wrong expectations.You have most likely met Cameron's previous work(s): Aliens, Terminator 1 & 2, The Abyss, Titanic (!), just to name a few.So WHAT should you expect from Avatar??? MORE of the same!!! More of revolutionary film-making, more of grandiose new ideas, more of never-before-seen special effects, more of 150 minutes without relapsing, more of the James Cameron genius...I am very happy that the trailers didn't give the full story away. Lots of emotions are waiting for the viewer, laughter and tears also. Cameron was very smart keeping the teasers as teasers, nothing more... as the full movie will take your breath away.You will practically not notice that you are watching a non-existing world, it is sooo real. Attention to detail is superb. You computer geeks will know what I am talking about. This move was not rushed in the making. No wonder it could not have been done before - not having the proper computing power.The wild life, the jungle, the animals, the Na'vi-s, or the dragon-like flying creatures are all so life-like, they almost pop-off the screen (and in 3D they actually do :) .The sound effects were so well done, that when I saw at the credits that Skywalker Sound was behind it, i could only think of \"yessss... now THAT makes sense.\"Cameron is a visionaire - and again, he delivers, with full blast.A certain character says in the movie that Pandora (the planet where the story takes place) became his real world. My advice to you: let Pandora become YOUR real world for two and a half hours, let it make you completely forget about your life and problems, let it entertain you, move you, let it carry you away.Because THAT is what i expect as an exchange for my ticket.And a few hours ago i got tens of tickets worth of that.</td>\n",
       "                        <td id=\"T_7f8f39b6_1428_11eb_b4d7_cc2f716c60c3row7_col1\" class=\"data row7 col1\" >Good</td>\n",
       "            </tr>\n",
       "            <tr>\n",
       "                                <td id=\"T_7f8f39b6_1428_11eb_b4d7_cc2f716c60c3row8_col0\" class=\"data row8 col0\" >When movies are created, they are done so with intent. Different genres of film target specific audiences, a formula which has sustained Hollywood and it's industries since the beginning of the blockbuster movies. When a movie is created in a manner that sets in motion any given goal, said films success is pendant on whether or not that goal is reached. If a comedy creates laughter, or if a romance produces tears, then they are successes in their own right. So when a massively ambitious, seemingly impossible to create film aiming to usher in a new era manages to grab hold of it's audience and take them on an unprecedented cinematic roller coaster ride that delivers the goods every turn of the way, it can be considered successful. Avatar is that success.A work in progress that spanned a decade and a half, Avatar is more than just a film - it's an experience, an event. When James Cameron set out to make this movie back in the mid 90's, he realized that his ambitions were simply too far ahead of their time. His ideas could not be reached in a feasible manner, and due to this, he had to wait. Or create. Once informed that the image he held for this film was one that was out of grasp, he began working on the technology that would bring his masterpiece within reach. Fifteen years and nearly half a billion dollars later, James Cameron has brought that vision to the screen, and has done so in an extravagant and showstopping way.Avatar tells the tale of a war between species, each fighting for the ultimate survival of their race. Desperate to find the fuel for their dying planet, human soldiers and scientists set out from earth and set course for Pandora. A planet connected by all living things, Pandora is home to an indigenous species known as the Na'vi, as well as the precious element Unobtanium needed to save earth. Using transference technology, paralyzed marine Jake Sully is volunteered for the \"Avatar Program\", which enables the thoughts and mind of a human to be placed within the shell of a tube-born Na'vi body. Using this as technique to their advantage, Jake is sent into the harsh Jungles of Pandora in order to bond with the natives, thus gaining knowledge and insight on their ways. Having originally planned to use this knowledge as a means of negotiating the natives relocation, so that the humans can access the deposit of Unobtainium - which just happens to sit below their most worshiped and valued pseudo-deity of their planet.While the plot on paper may read as a standard shoot'em-up action sci-fi flick, it is a near inconceivable task to truly explain how incorrect this appearance truly is. This takes a stroke from every movie, and a dab from every genre, and manages to create a portrait of beauty, in which all pre-existing notion of what cinema can and cannot do is destroyed. Within the lengthy hundred and sixty some odd minutes of film, moviegoers will find that there is always something to keep them enthralled, a merciful gift when considering how tedious many of the longer film of recent memory can become.No matter what can be said about the overtly cheesy script,a criticism that, while holding true, manages to fit charmingly into the over-the-top nature of the film, Avatar does as it set out to do, bringing moviegoers a cinematic experience rather than a film. Relying on the technology that he created, Cameron pours his heart into this movie, and it shows in every scene. Ranging from the absurdly detailed creatures to all-too-realistic planet, this flick manages to tell a fulfilling story while all the while throwing jaw-dropping scenery at the audience, giving them only enough time to recover before bombarding them with yet another breathtaking shot.Be it the fantastical and charming love story told between the native and the outsider, or the too-real-to-be-true action scenes between gunships and foreign ferals, Avatar is what Star Wars was too the 70's, the Wizard Of Oz of the 40's - a masterpiece that will go down in movie history as a game changer of it's time.4 Stars out of 4 Stars</td>\n",
       "                        <td id=\"T_7f8f39b6_1428_11eb_b4d7_cc2f716c60c3row8_col1\" class=\"data row8 col1\" >Good</td>\n",
       "            </tr>\n",
       "            <tr>\n",
       "                                <td id=\"T_7f8f39b6_1428_11eb_b4d7_cc2f716c60c3row9_col0\" class=\"data row9 col0\" >I saw this epic last night at the Empire Leicester Sq in London, which is a superb venue in which to view this film. Huge screen, excellent sound and an extraordinary Dolby, 3 dimensional image. The whole effect is mind blowing.This is a 'Must see' movie, innovative, and extraordinary. I think it will be regarded by most cinema goers as another milestone in the history of the art. The level of realism achieved is remarkable, and although the film is relatively long in real time, it retains it's excitement and holds the audience's attention to the end.Performances are good, but this is not the sort of film that dwells on big star value for the actors, although Sigorney Weaver does shine and delivers a very convincing performance, as do the rest of the cast. But as there is so much entertainment and action value on screen the human element does not dominate in the usual way.As Writer/Director, James Cameron deserves high praise for this creation and in my opinion it will break box office records. I thoroughly enjoyed this film.</td>\n",
       "                        <td id=\"T_7f8f39b6_1428_11eb_b4d7_cc2f716c60c3row9_col1\" class=\"data row9 col1\" >Good</td>\n",
       "            </tr>\n",
       "            <tr>\n",
       "                                <td id=\"T_7f8f39b6_1428_11eb_b4d7_cc2f716c60c3row10_col0\" class=\"data row10 col0\" >First of all, let me get it out of the way: yes, Avatar is visually stunning. With better scenario and dialogs, it could have been a very good movie; alas, it was completely predictable, and fancy special effects alone do not make a good movie.Let's start with the picture. As I said before, the special effects and computer animation are really good; the textures feel very real, and the degrees of liberty that CGI animation allows in terms of camera angles and movement is well used for dramatic effects. The luxurious vegetation of the forest and the CGI-animated wild animals are a treat to the eyes. In terms of artwork, there is a definite influence from Nausicaa (the forest-world, the spores) and Starcraft (the vessels, the goliaths). I saw the movie in an IMAX movie with 3D glasses, but I am not convinced that they used the full potential of it - quite honestly, the Haribo commercial before the movie made a better use of it. I find it more strenuous to watch a movie with the 3D-glasses - some details are blurry, and it feels likewise when the camera makes swift lateral movements.Now, the scenario - the movie disappoints in that area. The plot is very Manichean, and it feels like a remake of Pocahontas, interspersed with elements from / tributes to Star Wars (Pandora and the Na'vi look like Endor and the Ewoks respectively), Nausicaa (the forest as an entity, the destructive impact of civilization on nature, the spores in the forest), Starcraft (Colonel Quarritch and Dr Augustine bear some resemblance with Arcturus Mensk and Sarah Kerrigan), Matrix (the concept of controlling another image of self), and maybe even Independence Day (the pilot fighter suicide) and the Lion King (the father's death, \"go, and never come back!\", ... am I going to far here?). But I can honestly say that I haven't been surprised at any point in the movie. You know from the beginning that he will be accepted by the Na'vi, that he will fall in love, that he will defect, that he will ultimately prevail after suffering some heavy casualties, and that he will find a way to permanently transfer his mind into the body of his avatar.It would have been interesting if the movie had dealt in more depth with the issues related to transferring one's mind into another body for instance, maybe a la Twelve Monkeys Army, where the \"hero\" is clearly deeply affected by experiences that the mind is not used to deal with (time travel in that case, but it is not that different from what we have here). Likewise, the love interest of our hero seems very indifferent to the fact that he really is a human remotely controlling a human - Na'vi bastard. I was expecting someone (him, her, or even one of the other humans in the scientific group) to show at least some kind of surprise / doubt when these feelings emerge. I was expecting more complexity in the social interactions of the characters, and their personality.I also take issues with some big stereotypes: corporations and the white men are greedy, indigenous people are pure, brave, and connected to the earth, but dumb - thankfully there is a human to teach them how to fight those who come from the sky. To some extent, the movie feels like a remake of the colonization of the Americas; just replace the Na'vis by native Americans, the aircrafts by ships, and modern weapons by muskets, and you have it. Except of course the colonization of the Americas did not have such a happy ending for the native tribes.On the whole, the movie is beautiful, but it feels like the main goal was to showcase fancy special effects. The movie would have benefited from more detailed characters, and a less linear and predictable plot. My rating is 6/10.</td>\n",
       "                        <td id=\"T_7f8f39b6_1428_11eb_b4d7_cc2f716c60c3row10_col1\" class=\"data row10 col1\" >Good</td>\n",
       "            </tr>\n",
       "            <tr>\n",
       "                                <td id=\"T_7f8f39b6_1428_11eb_b4d7_cc2f716c60c3row11_col0\" class=\"data row11 col0\" >Nobody directs like James Cameron. Ten years in the works, and every minute was worth it. It is the Star Wars of the 21st century. Though the plot is derivative and bears some pretty close resemblance to Dances with Wolves and a little bit of The Last Samurai, it does not ruin a mind-blowing experience. Avatar has a great future ahead of it and, possibly another Oscar for the mighty James Cameron. Jake Sully, is an ex-marine, bound to a wheel chair. He seeks to make a fresh start on the moon Pandora where his brother worked. The moon has a military run mining colony. The business has brought humans into contact with the local natives, tall blue dudes, called Na'vi. The Na'vi inhabit a part of the moon under which lies a large deposit of valuable minerals, and the humans are trying to get them to relocate. Colonel Quarich who runs the operation, ask Sully to go under cover as a Na'vi, to learn the secrets, to give the humans an advantage. If successful, Sully will get his legs back. The magic of future science and 3-D effects give Sully a handsome genetically engineered Avatar body, and he embarks on his mission. Once on the inside however, his loyalties to the humans start to turn when his heart gets lost to the Na'vi princess Neytiri. Is he willing to fight on the blue side now?The landscape of Pandora is the most creative and inventive of the decade. There are creatures that you might find in your wildest dreams or your worst nightmares. There is flora and fauna that shine with the bioluminescence of a thousand deep sea critters, and also trees which dwarf the Empire State Building.I guess the only noticeable problem with Avatar, is a lack of original story. What you see on the screen will blow you away, but all the tough critics, may come down a bit on the fact that despite being the latest in film technology, Cameron uses a very old archetypal formula, perhaps just a bit too schematic. There are a few badly scripted segments of dialogue, but nothing that makes you wanna blow raspberries at the screen.What is most important is the fact that Cameron's story gets the viewer involved and offers a handful of memorable and likable characters to root for, and some to root against. This is the post- modern era, and originality is rare, but if there is any technical progress to be made in the world of movies and entertainment, there is one name that dwarfs all JAMES CAMERON, and after ten years hiding from the Hollywood mainstream, he is back.</td>\n",
       "                        <td id=\"T_7f8f39b6_1428_11eb_b4d7_cc2f716c60c3row11_col1\" class=\"data row11 col1\" >Good</td>\n",
       "            </tr>\n",
       "            <tr>\n",
       "                                <td id=\"T_7f8f39b6_1428_11eb_b4d7_cc2f716c60c3row12_col0\" class=\"data row12 col0\" >A film with the scope of James Cameron's Avatar was always going to be a risk both artistically and financially, especially in today's economic climate. Whether it will pay off monetarily is a question only time can answer, but this viewer can at the very least attest to it being an artistic triumph.Avatar brings us as close as cinema ever has to actually visiting an alien world. The beautiful environs, the exotic creatures and incredibly lifelike natives of Pandora arrest the senses, visually, aurally and emotionally. The world in Avatar is the true star of the show. The amount of detail and work that has gone into bringing this new world alive is seriously impressive, and it will be a while before we see anything that overtakes it in scope and quality. WETA Workshop and ILM have truly outdone themselves.Relative newcomer, Aussie Sam Worthington provides a solid human heart amongst all the science-fiction/fantasy beauty and Zoe Saldana gives an impressive performance as the 8 foot tall Na'vi, Neytiri. Even though the characters they both play are blue, giant, catlike aliens, they managed to evoke a chemistry and likability that pierces through the special effects.That's not to say that everything is perfect. The story is basic and dare I say, clichéd and predictable. We have seen it plenty of times in all forms of media. The bad guys are cartoonishly evil, and sadly paper thin. The love story, while charming, is also clichéd despite being between man and alien. But in the face of these shortcomings, Avatar is a success because its storytelling lies in the brilliant visuals.Avatar is a beautiful piece of film and a true event. It does exactly what cinema was always intended to - it takes us away from our problems and worries for a few hours and gives us memorable images which will undoubtedly and deservedly enter into the cultural lexicon to stay for the foreseeable future.9.5/10</td>\n",
       "                        <td id=\"T_7f8f39b6_1428_11eb_b4d7_cc2f716c60c3row12_col1\" class=\"data row12 col1\" >Bad</td>\n",
       "            </tr>\n",
       "            <tr>\n",
       "                                <td id=\"T_7f8f39b6_1428_11eb_b4d7_cc2f716c60c3row13_col0\" class=\"data row13 col0\" >Forgive me, I'm going to jump from professional to fan boy for a while here. I haven't had the jitters after a film the way I've had for Avatar in quite sometime. James Cameron's Avatar is the most entertaining and enthralling cinematic experiences of my life. It is incredible, simply put. What Cameron has done here is the most passionate film project put out since Steven Spielberg released Schindler's List. His attention to detail and his zeal for pushing the envelope is so admirable to any filmmaker or actor who will ever do another film from this point on.Avatar is the story of Jake Sully, a paraplegic marine, who replaces his brother on a secret mission to infiltrate the Na' vi, the colony of beings that sit on the planet of Pandora, where there is a precious ore, that sells at a ridiculous amount. When Jake learns the ways of the Na' vi, his feelings and learnings will put him and the people he trusts in dangerous jeopardy.The performances here, in the sense of reacting, becoming, and understanding what Cameron has written are astounding. Not to be confused with a sensational bravura performance from some of the centuries best such as Marion Brando, Tom Hanks, or Diane Keaton; these actors along with the director inhabit these visual transformations with special effects as if they are have lived these beings all their lives. This is all based on character movements and reactions. Sam Worthington, as Jake Sully, is an actor who's on his way to becoming a star. Though he has problems with his Aussie accent often enough in the film, he gets the job done. Zoe Saldana, who plays Neytiri, a Na' vi huntress, is thrilling and electrifying. Stephen Lang, as the rock hard Colonel Miles, takes on a villainous turn to a new level in science fiction. He offers actual emotion and emotes evil to the audience and gains our hatred easily. Sigourney Weaver as the beautiful Dr. Grace, is sufficient enough to have on screen again teamed with Cameron. She lives inside her role with effortless ease, but suffers from some of the typical James Cameron cheesy lines.Narratively the film works perfectly on the cinematic level. The first forty minutes or so require patience and hope as it is the weakest part of the film and offers some dreariness, but when the second act takes off, it's sky high with no limits for James Cameron. Avatar delivers the best action sequences put on film of all time. That is the boldest statement I have ever made in all my years of criticism. I sat on this for two days before charging it out, but I mean it. It is the best visual experience of my life, period.Other than those visuals, the film pops with all the other technical aspects thrown into one. Art Direction is killer as the two worlds blend in perfectly for an acceptable time. The Film Editing is the crowning achievement of the film as it also offers the perfect blend of the two worlds, enticing the viewer and shifting us around. Mauro Fiore is the threat for a Cinematography Oscar this year. It was if the viewer sat down in a chair, put on glasses, and was literally placed on Pandora, spaceships, and floating mountains. The viewer can feel so engulfed by the imagery, you feel like you can smell the leaves from the trees. Avatar is utterly hypnotizing. James Horner's score is some of the best work done in his career. It offers a variable of devastation that moves the viewer to near tears. It goes back to his work on Titanic, where the musical instruments lifted the material immensely. The entire sound team is also locked and loaded for Oscar recognition as the feeling of animals, machines, and arrows buzzing by your head leave you imprisoned in Cameron's exquisite film.James Cameron has come back home ladies and gentlemen Cameron is back, bigger, badder, and mature in his crowning work of his career. Terminator 2: Judgment Day and Titanic do not even compare anymore. This is the film that can blend the fans of those two films together and lock Cameron into your heart. He's a definite spoiler for a directing bid for the Academy Awards. You have admire the raw, natural talent the man has. How could you ever conceive such an experience and put that much effort and work into it and have it pay off? The box office success will surely keep him in the minds of voters for various critics' awards. His screenplay, leaps and bounds better than 1997's Best Picture Winner, is primed, developed and ripe for the taking. Though, you do acquire the tacky and atypical dialogue you expect from a science fiction director of this caliber, you can appreciate the effort and the honesty of it all. James Cameron is everything Michael Bay wishes he was, to put it bluntly.Avatar will bring also great actors putting their best foot forward such as Giovanni Ribisi, who is as underrated as they come. Michelle Rodriguez who exudes sexy like any woman starring in a sci-fi epic. Joel Moore, showing his range outside of his comedic work in Dodgeball: An Underdog Story. And the classy veteran actors, CCH Pounder and Wes Studi, who just simply don't work enough.Avatar is one of the best films of the year. The most exciting, thrilling, and superb work you'll feast your eyes on in any theater this century. Cinema, forever, will remember the benchmark that James Cameron placed not only for himself, but for any man, daring to change the game, the way Cameron did. Avatar is a movie experience to be remembered, and please experience in a movie theater first.***½/****</td>\n",
       "                        <td id=\"T_7f8f39b6_1428_11eb_b4d7_cc2f716c60c3row13_col1\" class=\"data row13 col1\" >Good</td>\n",
       "            </tr>\n",
       "            <tr>\n",
       "                                <td id=\"T_7f8f39b6_1428_11eb_b4d7_cc2f716c60c3row14_col0\" class=\"data row14 col0\" >It has been 12 years since Cameron unleashed the phenomenon that was Titanic and real fans would have to look as far back as 1991's Terminator 2 for their last proper dose of his incredibly epic action (True Lies, while fun, really doesn't count). So the anticipation for Avatar has long since reached fever pitch and beyond.Thankfully for the patient masses, Avatar has turned out to be the biggest and best event movie of the year, perhaps the decade. The story is pure Cameron simplicity – a paraplegic ex-marine is given a chance to walk again through the use of a unique alien body, called an Avatar. It is his job to gain the trust of the natives so that a greedy corporation can steal the precious metal from their lush moon. Jake's (Sam Worthington) crippled main character is the perfect point of contact for the audience – not only is he new to the visual delights of Pandora but his disability means that every moment in his Avatar body is one of glorious freedom from the confinement of his chair. When the Corporations intentions become more sinister, Jake must choose between his new found place with the natives and his own race and fight for what he believes in.Avatar combines parts of Pocahontas and Braveheart with a liberal dose of Space Marines into an epic whole that takes nearly three full hours to unfold. We could criticise that length, the weak story and the hammy dialogue. We could attack its thinly-veiled ecological message or the frankly bizarre spirituality in its second half but honestly nothing can spoil the experience while you are enveloped in it. And a large part of that is down to the brilliant use of 3D – which is both subtle and incredibly effective. Til now, we have been making movies with 3D elements, Avatar is the first truly 3D film and might well prove to be one of the most significant things to happen to blockbuster film-making since Star Wars.Cameron is also pushing the envelope with truly photo-real CG – something which has been promised for years but has finally been delivered with Avatar. The interactions of the characters with the environment is incredible and the detail on the faces of the motion-captured leads (Worthington and Star Trek's Zoe Saldana) bring them to life. You will believe totally in their performances, representing another quantum leap in tools which have rarely been used for anything other than spectacle.Make no mistake, Avatar is an important film from a technical standpoint but it is also great entertainment. The world of Pandora is a stunning spectacle from scene to scene and as Jake learns more about the Na'vi the film approaches the kind of light hearted adventure story which has been absent from movie theatres for years. Then the final act explodes into tragedy and desperate action, with the final half hour a blistering life or death struggle that has to be seen to be disbelieved.Over the coming days you will be hearing a lot about Avatar, and some of the critical reaction is bound to focus on its weaknesses in a bid to appear appropriately reserved and objective. But this is not a film to be dissected or examined, rather one to be experienced with a warm crowd, a great sound system, in 3D as you bask in the knowledge that the movie-making master is back!</td>\n",
       "                        <td id=\"T_7f8f39b6_1428_11eb_b4d7_cc2f716c60c3row14_col1\" class=\"data row14 col1\" >Good</td>\n",
       "            </tr>\n",
       "            <tr>\n",
       "                                <td id=\"T_7f8f39b6_1428_11eb_b4d7_cc2f716c60c3row15_col0\" class=\"data row15 col0\" >...........................................................from Pasto,Colombia...Via: L.A. CA., CALI, COLOMBIA and ORLANDO, FL There have been only about a score or so of films that have transcended being simply a movie and, because of their unprecedented impact upon many millions of viewers, have contributed to our culture, becoming part of it, and more recently, to that of the entire world. After being 62nd birthday-treated to AVATAR in IMAX 3-D by my wife, I state, for the record, it is an incomparable voyage, a magical mystery tour experience, to a poignant culture-clash on an enchanted world most distant both in time and space",
       "A movie it is not! Visionary James Cameron has created, crafted and orchestrated a labor of love for the ages. At long last, CGI has come of age, finding in AVATAR a vehicle capable of demonstrating the awesome splendor of its true potential. We are transported to an intricately designed world, complete with a Neolithic race of aliens, rich with culture and traditions, speaking its own uniquely linguistically engineered on-screen language (A Cinema First) As for the \"It's Anti- American!\" grumblings: 1) The troops were not even U.S., they were corporate hired guns! 2) Life isn't about winning or losing battles: It's about living in harmony with one's environment",
       "At least that's how I saw it. Wow! Talk about nefarious agendas! In the opening seconds, James Cameron seems to pay tribute to both 2001 and Star Wars. Some reviewers have mentioned a similitude to Pocahontas. There were different moments that conjured up memories of story threads from many different films, but thematically, Dances With Wolves was, perhaps, closest. However, a straight up comparison to any other film does not do AVATAR justice. It is totally in a league of its own.Every aspect of AVATAR is practically hyperbole-proof. Just look at the plethora of gushing reviews. Yet, amazingly, there are some 2*, even 1* ratings! Honestly, I can't fathom how anyone who has ventured more than 100 miles from their place of birth could rate it less than 5*. (The word Provincial keeps popping into my head!) Closing words: The only film in my life that raised the cinematic bar more was Stanley Kubrick's 2001: A Space Odyssey(1968) Don't just see AVATAR",
       "Experience it! 10*....ENJOY/DISFRUTELA! Any comments, questions or observations, in English o en Español, are most welcome!.....KissEnglishPasto@Yahoo.com</td>\n",
       "                        <td id=\"T_7f8f39b6_1428_11eb_b4d7_cc2f716c60c3row15_col1\" class=\"data row15 col1\" >Good</td>\n",
       "            </tr>\n",
       "            <tr>\n",
       "                                <td id=\"T_7f8f39b6_1428_11eb_b4d7_cc2f716c60c3row16_col0\" class=\"data row16 col0\" >I realize I am probably going to get flames galore for this comment, and you all have the right to your opinion about my opinion, but hey, I'm entitled to my opinion too. Avatar is grade A crap. That's right, it's crap. I say this for one simple reason: Without the special effects this movie would never, ever captivate and take a hold of audiences like it has in the past week. Ask yourself this one question: If it didn't have the effects, the Navi plugging their hair into the trees like it's a damn broadband jack, mech suits(just like the ones in Matrix Revolutions) and barely futuristic ospreys, would you care about this movie at all? It's a truism when they say this movie is nothing more than Dances with Wolves in space. Some people may argue back that Star Wars borrowed from Hidden fortress, but at least it had enough compelling plot points to make it look different, such as I don't know... the force? The Death Star? Outer space? A location that has NOTHING at all to do with Earth? This important set of points clearly differentiates Star Wars and Hidden Fortress. But The difference between Avatar and Dances with wolves is... CGI. This CGI may be pretty but it cannot ever substitute for story and plot development. Speaking of, the characters save but a few are either very bland or stereotypes. The worst part is the story and the movie gives us no reason to care about the characters. You know what? I'll go one step further and say that the only difference between Avatar and a Star Wars prequel is this: Avatar has an environmental story that we can relate to. That's it. True, the action scenes in Avatar are well done, but hell, the action scenes in the Star Wars prequels were also arguably well-done. Still, there's that nagging lack of story development. Avatar is a huge let-down and doesn't belong on the best-of list of anybody with common sense.</td>\n",
       "                        <td id=\"T_7f8f39b6_1428_11eb_b4d7_cc2f716c60c3row16_col1\" class=\"data row16 col1\" >Good</td>\n",
       "            </tr>\n",
       "            <tr>\n",
       "                                <td id=\"T_7f8f39b6_1428_11eb_b4d7_cc2f716c60c3row17_col0\" class=\"data row17 col0\" >I have never been so close to leave the movie theater, as i was when seeing Avatar. Sure, it's very beautiful to look at, but, if you've seen the trailer, then you've seen the movie! It's basically every movie clichés put together in one horrible and so unoriginal movie. it's a mix of the \"last samurai\" meets \"Pocahontas\" meets \"Atlantis\"! it's by far the most horrible storyline since Ed Woods' \"plan 9 from outer space\".Not once are you surprised by the turn of events in this movie, and there's so many bad movie clichés in it, and so many things that just doesn't make any sense at all (even in their universe). for example, the last fight scene with the giant robot and the Avatar. It really doesn't make any sense at all, that the robot is carrying a 8-foot-1 hunting knife, just in case he loses his gun (which could easily have been attach to the robot!), and that the robot tells the avatar, what he's about to do, instead of just doing it (A good example of a bad cliché).If you want to see this movie, i recommend you either see the trailer ( as that is enough for you, to litterily, call every scene in the movie) or you go out and buy Atlantis and just Imagine it with smurfs instead of underwater people.</td>\n",
       "                        <td id=\"T_7f8f39b6_1428_11eb_b4d7_cc2f716c60c3row17_col1\" class=\"data row17 col1\" >Good</td>\n",
       "            </tr>\n",
       "            <tr>\n",
       "                                <td id=\"T_7f8f39b6_1428_11eb_b4d7_cc2f716c60c3row18_col0\" class=\"data row18 col0\" >I actually enjoyed this quite a bit, but I am giving it a 1, because I cannot believe that it deserves an 8.8, which is what it is getting this evening, mostly apparently due to suspicious ratings from countries like Slovakia, India and Australia. Not that I have anything against those countries, it just strikes me as odd that so few good reviews are coming from the United States. I'm not saying that IMDb's ratings are being manipulated by some sort of conspiracy, I am just saying it is odd. Anyways, rather than try and balance my review with what was good (the visuals, the 3D, the sound effects), am just going to say what really sucked. Can I say \"sucked\" in my review? Guess I will find out.1. \"Unobtainium.\" Really, \"unobtainium?\" Was this a kid's cartoon? 2. Sigourney Weaver's confused and cartoonish scientist character. She's tough, she smokes, she has a heart of gold, and her Avatar dresses like Dora the Explorer. Also, why try and make her look twenty years younger than she is? I can't tell if they used CGI, Botox, or a ton of make-up, but she looked like the female version of the Picture of Dorian Gray. What a waste of talent.3. Hundres of years in the future, they can create magical avatar clones and transmit brain signals to them, but they still use flimsy wheelchair thingies? 4. Less than a half dozen animals on Pandora, and all but the floating jellyfish are angry and violent. Really? No fish? No birdies? No toads, snails, foxes, puppy dogs, kitty cats, mosquitoes, or anything but those half dozen CGI creature types? Seems like Pandora was populated by a relatively cheap CGI outfit.5. The trees all communicate through synapses, and this is supposed to be ominous, yet this never turns into anything compelling. Did Jimmy Cameron get tired of his own idea? Or was it to hrd to animate something more interesting? 6. Almost half a billion dollars to make this?!?!?!?!? 7. \"Unobtainium?\" \"Unobtainium?????\" 8. Cartoony tough military guy who does not have a clue how to organize a military campaign.9. The Na'Vi speak broken English that somehow becomes perfect English on and off throughout the movie. And the Avatars speak perfect English in normal tone of voice, identical to their human voices, although their bone structure is completely non-human?!?!?!? 10. Unobtainium I could go on and on, but you get the picture. This was like an extremely expensive and pretty kiddie cartoon. What a waste, and absolutely NOT deserving of the rating it is getting here.</td>\n",
       "                        <td id=\"T_7f8f39b6_1428_11eb_b4d7_cc2f716c60c3row18_col1\" class=\"data row18 col1\" >Good</td>\n",
       "            </tr>\n",
       "            <tr>\n",
       "                                <td id=\"T_7f8f39b6_1428_11eb_b4d7_cc2f716c60c3row19_col0\" class=\"data row19 col0\" >At the risk of repeating what countless others have said, this movie is blatant plagiarism. If a film student submitted the Avatar screenplay to an instructor, he/she would have been given an F. Colleges expel students for less obvious ripoffs than this. If you've watched Pocahontas or Dances With Wolves, you know the drill. The only difference is the ending, which has the pretty blue humanoids escorting humans to their Earth-bound ships at gunpoint, which I freely admit is a rather neat sight since my ancestors were American Indian, Irish, and Scot. As a result, I am perhaps overly sensitive to the plight of a civilization driven from their homeland and/or oppressed by a conquering nation - er, planet.However, originality is not James Cameron's strong suit, so my disappointment is directed more at WETA. Yes, my beloved WETA, who impressed me throughout the years but completely stole my heart after the masterful rendering of all things Tolkien in the Lord of the Rings Trilogy. I had two reasons for seeing this film. One was a 13-year-old boy, the other was my anticipation over what wonders WETA would lay at my feet.Now, had the budget not been nearly half a billion dollars, I'd have understood the cartoonish creations, but as it stands there's no good reason for the results. Viewers are praising this film as revolutionary. I call \"horsesh!t\". This was nowhere near the caliber of WETA's LOTR work, their King Kong work, or their X-Men work. In fact, it wasn't even up to snuff with their Narnia production. The quantity of work was greater, not the quality.I've never reviewed a film in my life. I actually registered here for the sole purpose of expressing my resentment at having wasted $20 bucks and 3 hours on such nonsense. Booooooo.</td>\n",
       "                        <td id=\"T_7f8f39b6_1428_11eb_b4d7_cc2f716c60c3row19_col1\" class=\"data row19 col1\" >Good</td>\n",
       "            </tr>\n",
       "            <tr>\n",
       "                                <td id=\"T_7f8f39b6_1428_11eb_b4d7_cc2f716c60c3row20_col0\" class=\"data row20 col0\" >First I didn't want to go watch Avatar because when I heard Cameron took 3 weeks to write the plot I said to myself there is no hope for cinema anymore. And somehow people are showing me that I was right. I went to watch this piece of .... because I have been told it s unbelievable.Storywise, there is no story at all. It's the typical good vs bad scenario shaped out of cowboys against indians in space mixing it with a yogi everything connects us to the world impression plus a goddamn planet called Pandora and looks like f...in' paradise. Lot's of shiny colours and huge monsters who eat flesh are your best friends. Come on. You gotta be kidding me.Maybe I might be the only one here, cause all reviews I've seen got great score, but that is not what a movie is supposed to be. I was very unimpressed by the CGI and the artistic development because I might be used to computer games such as Final Fantasy series which has been the shaper of such incredible stories, only that these games have a very strong story to tell and and you feel totally involved.It impresses me that people give this such a high rating because of it's visuals. I mean it was clear that sooner or later a movie would appear with such incredible CGI. If it wouldn't have been Avatar another would have been the winner.I am sad that nowadays cinema is ail centered only about violence, good looks and a huge lack of brain.3 out of ten only for the cgi which I thought is not the center of a movie otherwise I would have rated it beneath 0.</td>\n",
       "                        <td id=\"T_7f8f39b6_1428_11eb_b4d7_cc2f716c60c3row20_col1\" class=\"data row20 col1\" >Good</td>\n",
       "            </tr>\n",
       "            <tr>\n",
       "                                <td id=\"T_7f8f39b6_1428_11eb_b4d7_cc2f716c60c3row21_col0\" class=\"data row21 col0\" >I am sure my comment will be lost in a sea of blue but anyways here goes...Just attended the Advanced Screening at my local \"Event Cinema\" BCC in 3DNow this movies graphics are gorgeous, everything is so real, the 3D just adds to the effect beautifully without distracting you.From a technical standpoint this movie is amazing, just the detail on the Navi's faces are amazing, they feel more real then their real life counterparts!Without giving anything away about the story, the plot itself is very solid, very character driven and perfectly executed by Jim, safe to say this is his best original story since \"The Terminator\" and \"Terminator 2\" and is definitely one of his best movies, so good it ties with T2 which is my most favorite movie of all time...So for those of you who have not seen this yet... WHAT ARE YOU WAITING FOR?!5/5</td>\n",
       "                        <td id=\"T_7f8f39b6_1428_11eb_b4d7_cc2f716c60c3row21_col1\" class=\"data row21 col1\" >Good</td>\n",
       "            </tr>\n",
       "            <tr>\n",
       "                                <td id=\"T_7f8f39b6_1428_11eb_b4d7_cc2f716c60c3row22_col0\" class=\"data row22 col0\" >\"Ok, I get it.\" That's a phrase I found myself saying an awful lot during this 2 1/2 hour computer game that was as painful to the brain as it was to the eyes.First, let's get the obvious out of the way. This film was expensive, in that it cost so much money to make you could solve at least one state's budget crisis with it. So why did it look like it was nearly all conceived on a computer? Not since the \"Star Wars\" prequels has the \"fourth wall\" ever been so demolished. Never once did I care about the characters or believe anything the actors tried to do because I knew it was completely artificial. Hell, people still complain about \"Waterworld\" being overpriced but at least people actually got off their duffs and did some real film shooting! This whole project stinks of imported bottled water and soy lattes. This film is the pinnacle of Hollywood overkill. An overblown, overpriced, overindulgent eyesore of a movie with a \"message.\" Oh yes, the message. Underneath watching the latest in nerd fantasy-fulfillment with its CGI, is a liberal-minded jackhammer drilling into your psyche about the evil of American corporatism, military culture, and rich white men's greed. The noble intent of getting its audience to care about the environment is done in the LSD-esquire rainbow cornucopia of every Native American and African stereotype imaginable, all set to an \"oweyo oweyo\" New Age chorus that makes one actually pine for the sweet sound of the Jonas Brothers. I say this as a die-hard independent who has as much to say about environmental awareness as anyone with a college education, but the caricatures painted here border on MSNBC-levels of leftist philosophy. The bad guys are the Republican racist military and corporate oppressors, who refer to our heroes as \"tree huggers\" and the alien Navi as \"savages,\" and see their violence against them as \"fighting terror with terror.\" I'm not kidding, they actually use soundbites from the last decade as part of the script. One character actually refers to the military attacks as \"shock and awe.\" If you don't want to heave from the vertigo-inducing sweep of the completely sterile computer-created world of Pandora, the dialog will surely get you to bending over the toilet cursing the day you ever thought this was worth even half its price tag.See, there was a movie made very recently that dealt with valid socio-political issues that was full of interesting characters and top-notch CGI at a fraction of \"Avatar's\" cost. It was called \"District 9\" and if you haven't seen it, do so and then come tell me what you thought of \"Avatar.\" Because the former film was able to show the evils of racism without painting its characters as one-dimensional caricatures. It showed that greed knew no color boundaries, and that you can combine action with a message and not be beaten over the head with it.I would advise people to avoid this film, however I know that is next to impossible. This has become the new \"Titanic,\" where seeing it is not only an option, but a requirement with some groups of people. I like to refer to those people as \"STUPID.\"</td>\n",
       "                        <td id=\"T_7f8f39b6_1428_11eb_b4d7_cc2f716c60c3row22_col1\" class=\"data row22 col1\" >Good</td>\n",
       "            </tr>\n",
       "            <tr>\n",
       "                                <td id=\"T_7f8f39b6_1428_11eb_b4d7_cc2f716c60c3row23_col0\" class=\"data row23 col0\" >This movie is perhaps one of the most spectacular I have ever seen. Throughout all three hours or so, I was held spellbound by the scenery, action, and storyline of James Cameron's dream. I do not think I glanced at my watch once throughout it, and I can honestly say that I didn't want it to end.First: the visual effects were absolutely stunning. James Cameron did not just create a world; he created an entire ecosystem that could be plausible if we didn't know better. The first time the Na'vi were seen, the person I was with leaned over and asked me if they were costumes or special effects, they were that real. The Hallelujah Mountains looked amazing, and the wildlife, although it would be frightening in real life, was just stunning.Second: the themes were great. Although stone-hearted critics (like the ones on here who gave it a 1/10) may argue that it was unoriginal and a direct copy of other movies, there are very few movies coming out nowadays that you couldn't say that about. I noted themes in this from several different movies, the most prominent being Dances with Wolves, but that wasn't the only one. It also took a theme out of real life: people destroying the environment for such petty things as money. The reality of it is one of the most disturbing things in that film.Third: the storyline was great. It does have similarities to Dances with Wolves, but there was so much more to it than that that you really could not say they were the same thing. Dances with Wolves did not go into the training nearly as much as this did. There are several others, but I won't name them all.Basically, this film is about as epic as you can get, and shame on all of you who think it was bad because it took themes from other movies and enhanced them. You will never find a movie that doesn't.</td>\n",
       "                        <td id=\"T_7f8f39b6_1428_11eb_b4d7_cc2f716c60c3row23_col1\" class=\"data row23 col1\" >Good</td>\n",
       "            </tr>\n",
       "            <tr>\n",
       "                                <td id=\"T_7f8f39b6_1428_11eb_b4d7_cc2f716c60c3row24_col0\" class=\"data row24 col0\" >Science fiction is, at its core, more than just a hypothetical fantasy about our distant neighbours twinkling in the night. It is also a reflection on humanity. It holds the mirror up to our faces and forces us to question who we are; when our aspirations, morals, ideals and weaknesses are put to the test, are we really who we think? And what is our place in the great darkness that surrounds us, frightens and amazes us? To know your own culture; learn another man's customs. It is only by comparison that we can truly see ourselves. And it is also only us, as subjective individuals, that can know who we are beneath our human exteriors. Many of us focus too much on our weaknesses and turn to God/s and religion for love and acceptance despite our faults, with heaven as the ultimate point of approval. Acceptance by someone or something that truly sees us, not only the shortcomings, but also for what we hope to believe that we fundamentally are; good, decent, with the heart in the right place, trying to make the best of what we have been given. Some of us don't believe in God, or profoundly question his/her/its existence. Many fear death, the unknown, never to see, feel or experience anything again. To be forgotten. For ever.So the question becomes: does this introduction have a point and what does Avatar have to do with it? Mr James Cameron is a self-proclaimed sci-fi nerd and - not to mention - a human being (although I agree questionable, let us make that assumption for convenience sake) and just like many of us I am sure he shares many of the same existential thoughts and questions that find their way into our human brains and skeptic hearts. And like many of us he seems to share a craving for adventure, discovery, enlightenment and a curiosity of the world, the universe and the beings with whom we happen to share our short time here on Earth.With Avatar, Mr Cameron manages to address most of these existential questions: who are we? Not in the comfort of our living rooms, nestled in the sofa with a bag of crisps and a chocolate bar in front of the TV, but in the face of choice. The choice between convenience and what we believe in. When all the luxuries have been taken away, and all the shields and walls and layers have been peeled off, do we like what we see? Avatarians have an expression; \"I see you\", which comes with such a deep ring to it because it is what we all want the world and people around us to do; to recognize, appreciate and care about us and to see that no matter how we might act and react on occasions, deep down we are good. These glasses we desire others to wear when they look at us also have another umbrella term; love. Some say love is blind, but to me at least, real love is not blind, it is understanding. It looks beyond the flaws and recognizes us for all the good things that we are. It sees our actions from our point of view.The story of Pandora's box in Greek mythology depicts how numerous evils were let into our world in a moment of weakness on Pandora's behalf. In much the same way, humanity in James Cameron's Avatar goes to the planet of Pandora and is confronted with a choice; open the lid or let the box be. Naturally, the greed (for money, power, etc) wins, and so, the lid is opened. Naturally, it has consequences. However, just like in the original story of Pandora's box, something else was let into the world when the lid was pulled away, something to counterbalance the evils that had been unleashed; hope. The hope that the good will, eventually, win. In Cameron's Avatar, this hope is represented by a group of humans who are not set out to exploit the people and resources of Pandora, but to understand it. And with understanding comes the ability to see clearly, and with this comes, ultimately, love. Love is not blind, but ignorance is, and ignorance is the root of most evils taking place in the world today.We all choose how we want to see the world. Everything is neutral as far as the universe is concerned; there is no good or evil, no good or bad, no morals set in some sacred stone at the heart of the heart of the universe. Morals are what we, humans, have created because we have a conscience. We have the ability to empathise and sympathise, to see the world through other's eyes as if they were our own.On Pandora, everything is connected; the trees, the animals, the flora and fauna, the past and the present, the living and the dead. If we as humans could be as connected with each other and communicating as much, I believe understanding of each other's differences would ultimately result in the realisation that we are in fact more similar than different. I believe that one such medium of communication already exists today – the Internet. Another one is the media but the question is how well it is working.I think Cameron's intended message with this film is very simple and – I admit – very cliché, but also very true and it doesn't hurt to be reminded of every once in a while; to see what we value and to stand up for it.Plus, it's easier to see the world through another's eyes when it's presented with such smashing CGI...</td>\n",
       "                        <td id=\"T_7f8f39b6_1428_11eb_b4d7_cc2f716c60c3row24_col1\" class=\"data row24 col1\" >Good</td>\n",
       "            </tr>\n",
       "            <tr>\n",
       "                                <td id=\"T_7f8f39b6_1428_11eb_b4d7_cc2f716c60c3row25_col0\" class=\"data row25 col0\" >\"Avatar\" is not the next \"Star Wars\" or \"Lord of the Rings.\" It might be the next \"Matrix,\" though. Or, perhaps more accurate, the next \"Matrix Revolutions.\" It's technically groundbreaking craftmanship put to work on a story that was played out after \"Return of the King.\" There are a lot of bad guys, a lot of good guys, and sooner or later they're all gonna meet on the battlefield. The little details are not-so-shockingly unimportant, since nothing could stop, change or even, really, comment on the unstoppable trajectory of this film's story.It's the future. An Evil Corporation is parked on distant planet Pandora, mining the planet of all its precious minerals. The native population, big blue humanoids called the \"Na'vi,\" aren't too happy about this. The corporation has hired scientists to create avatars of Na'vi bodies to be controlled by human brains, in order to communicate to the Na'vi that...they better move, lest be bulldozed by the evil Col. Qautrich (Stephen Lang).Jake Sully (Sam Worthington) is flown in to Pandora because his twin brother, who had an Avatar made specifically for him, is dead. The coincidence is an obvious plot device so that we can have a newcomer to Pandora to share in our amazement. Oh, and he's paralyzed, so running around in his new alien body is rather freeing for him.I don't feel as if I need to continue with the plot description. You know what'll happen. You've seen \"Dances with Wolves\" and \"The Last Samurai.\" Heck, even \"Dead Man.\" The Na'vi represent nature, the (all-American) corporation represents destructive technology. Quatrich has a Southern accent and says things like, \"we have to fight terror with terror.\" The Na'vi are clones of Native Americans - filtered through the imagination of a white liberal. It's all very obvious.The question, of course, is whether or not it's entertaining. Well...sometimes. It certainly looks good. Some sequences - especially those with the winged beasts - are eye-popping. Lang makes a fun villain. Pandora is more derivative than original, it reminded me most of Skull Island in Peter Jackson's King Kong. All the monsters have a plastic-y look to them that make them feel too well-done. The 3D is distracting at times and I had a headache before the movie was over.But there are scenes and individual shots that pop with ethereal beauty. It's worth seeing for that reason, but I don't think it'll be as fun after multiple viewings. The great thing about \"Star Wars\" was the characters: Han Solo, Luke Skywalker, Princess Leia, R2-D2, Darth Vader, Obi-Wan Kenobi, Yoda and so on. They embodied the other-worldliness of the story, taking the weight off the effects.In thirty-two years, I don't think anyone will remember \"Jake Sully.\" 6/10</td>\n",
       "                        <td id=\"T_7f8f39b6_1428_11eb_b4d7_cc2f716c60c3row25_col1\" class=\"data row25 col1\" >Good</td>\n",
       "            </tr>\n",
       "            <tr>\n",
       "                                <td id=\"T_7f8f39b6_1428_11eb_b4d7_cc2f716c60c3row26_col0\" class=\"data row26 col0\" >I simply cannot believe how over-zealous the users of this site are. Actually i can. It was exactly the same for There Will be Blood and every other hyped film there has been recently. Some of the adjectives used to describe Avatar beggar belief: 'The Best Movie of All Time' 'A Masterpiece' 'Mesmorising, Spellbinding, Extraordinary!'. I really do wish i could agree. I was looking forward to this as much as most and i'm a huge fan of Cameron's previous work. Avatar, however, is a massive disappointment, and i'm convinced once the hype surrounding the technology and CGI dies down people will realise that. It really is a reflection of the times that people can be so suckered in by fancy visuals and things blowing up. Please, for a moment, look at the merits of this film, CGI aside, and you'll see that they are pretty much on par with a hundred previous sci-fi b-movies/TV-series. The story is completely derivative, the action unrealistic, the dialogue.....oh God, don't get me started. James Cameron has obviously been spending far too much time with George Lucas. The dialogue is atrocious and painfully clichéd. There is no convincing character development at all. I can barely remember any of their names let alone have any sort of affinity with them. Sam Worthington is a waste of space. I don't know what this Hollywood fixation is with him, but he was terrible in Terminator Salvation and he is terrible in this. The cartoon, morally-vacant human 'baddies' are an insult to intelligence and unbelievable at every turn. The entire plot is 100% predictable. Of course we knew the humans weren't go to win. Of course not. Not with their space-travelling, cryo-genetic-using, high-tech weaponary-toting mentality. They didn't understand the forest, man. Please. This is almost as laughable as Return of the Jedi. And the lame efforts to instill some sort of sentimentality and moral message through the use of poorly-written pseudo-spiritual crap just made me cringe. I wasn't even that impressed with the character design. Cameron has basically taken Native American Indians and Antipodean Aborigines and turned them blue. They have similar attire, ride 'horses', shoot arrows etc etc. It was just all too familiar.Avatar may well be a technological breakthrough, and i look forward to others who take the technology on and remember to actually pair it with an original and compelling story, but for now though, this film is a bulging case of style over substance if ever there has been one.I miss Aliens. Now that was a convincing movie.4/10</td>\n",
       "                        <td id=\"T_7f8f39b6_1428_11eb_b4d7_cc2f716c60c3row26_col1\" class=\"data row26 col1\" >Bad</td>\n",
       "            </tr>\n",
       "    </tbody></table>"
      ],
      "text/plain": [
       "<pandas.io.formats.style.Styler at 0x1ad98c21ec8>"
      ]
     },
     "execution_count": 96,
     "metadata": {},
     "output_type": "execute_result"
    }
   ],
   "source": [
    "df_review.style.hide_index()"
   ]
  },
  {
   "cell_type": "code",
   "execution_count": 82,
   "metadata": {},
   "outputs": [
    {
     "name": "stdout",
     "output_type": "stream",
     "text": [
      "[1]\n",
      "[1]\n",
      "[0]\n",
      "[1]\n",
      "[0]\n",
      "[1]\n",
      "[1]\n",
      "[1]\n",
      "[1]\n",
      "[1]\n",
      "[0]\n",
      "[1]\n",
      "[1]\n",
      "[1]\n",
      "[1]\n",
      "[1]\n",
      "[1]\n",
      "[1]\n",
      "[1]\n",
      "[1]\n",
      "[1]\n",
      "[1]\n",
      "[1]\n",
      "[1]\n",
      "[0]\n"
     ]
    }
   ],
   "source": [
    "for reviews in content:\n",
    "    reviews_list.append(reviews.text)\n",
    "    # passing the review to our model\n",
    "    movie_review_list = np.array([reviews.text])\n",
    "    movie_vector = vectorizer.transform(movie_review_list)\n",
    "    pred = clf.predict(movie_vector)\n",
    "    reviews_status.append('Good' if pred else 'Bad')\n"
   ]
  },
  {
   "cell_type": "code",
   "execution_count": 83,
   "metadata": {},
   "outputs": [
    {
     "data": {
      "text/plain": [
       "['Good',\n",
       " 'Good',\n",
       " 'Good',\n",
       " 'Good',\n",
       " 'Bad',\n",
       " 'Good',\n",
       " 'Bad',\n",
       " 'Good',\n",
       " 'Good',\n",
       " 'Good',\n",
       " 'Good',\n",
       " 'Good',\n",
       " 'Bad',\n",
       " 'Good',\n",
       " 'Good',\n",
       " 'Good',\n",
       " 'Good',\n",
       " 'Good',\n",
       " 'Good',\n",
       " 'Good',\n",
       " 'Good',\n",
       " 'Good',\n",
       " 'Good',\n",
       " 'Good',\n",
       " 'Good',\n",
       " 'Good',\n",
       " 'Bad']"
      ]
     },
     "execution_count": 83,
     "metadata": {},
     "output_type": "execute_result"
    }
   ],
   "source": [
    "reviews_status"
   ]
  },
  {
   "cell_type": "code",
   "execution_count": null,
   "metadata": {},
   "outputs": [],
   "source": []
  },
  {
   "cell_type": "code",
   "execution_count": null,
   "metadata": {},
   "outputs": [],
   "source": []
  },
  {
   "cell_type": "code",
   "execution_count": null,
   "metadata": {},
   "outputs": [],
   "source": []
  },
  {
   "cell_type": "code",
   "execution_count": 18,
   "metadata": {},
   "outputs": [],
   "source": [
    "sauce = urllib.request.urlopen('https://www.imdb.com/title/tt0499549/reviews?ref_=tt_ov_rt').read()\n",
    "soup = bs.BeautifulSoup(sauce,'lxml')\n",
    "soup_result = soup.find_all(\"div\",{\"class\":\"text show-more__control\"})\n",
    "\n",
    "reviews_list = [] # list of reviews\n",
    "reviews_status = [] # list of comments (good or bad)\n",
    "for reviews in soup_result:\n",
    "    if reviews.string:\n",
    "        reviews_list.append(reviews.string)\n",
    "        # passing the review to our model\n",
    "        movie_review_list = np.array([reviews.string])\n",
    "        movie_vector = vectorizer.transform(movie_review_list)\n",
    "        pred = clf.predict(movie_vector)\n",
    "        reviews_status.append('Good' if pred else 'Bad')\n"
   ]
  },
  {
   "cell_type": "code",
   "execution_count": 26,
   "metadata": {},
   "outputs": [],
   "source": [
    "movie_reviews = {reviews_list[i]: reviews_status[i] for i in range(len(reviews_list))}"
   ]
  },
  {
   "cell_type": "code",
   "execution_count": null,
   "metadata": {},
   "outputs": [],
   "source": []
  },
  {
   "cell_type": "code",
   "execution_count": null,
   "metadata": {},
   "outputs": [],
   "source": []
  },
  {
   "cell_type": "code",
   "execution_count": 28,
   "metadata": {},
   "outputs": [
    {
     "data": {
      "text/plain": [
       "array([1], dtype=int64)"
      ]
     },
     "execution_count": 28,
     "metadata": {},
     "output_type": "execute_result"
    }
   ],
   "source": [
    "pred"
   ]
  },
  {
   "cell_type": "code",
   "execution_count": 23,
   "metadata": {},
   "outputs": [
    {
     "name": "stdout",
     "output_type": "stream",
     "text": [
      "Avatar tells a familiar story but its a story that works so well inside of this movie. The visuals and 3d are still one of the best to date and i totally get why it made so much money.\n",
      "****\n",
      "I'm not exactly sure when it became a thing among my tribe of film geeks to bash 'Avatar'. I know it wasn't when it came out, because most of the film fans in my circle of nerdy friends went to watch it multiple times and couldn't get enough of it. In hindsight, I suspect it was around the time when everybody and their grandmother seemed to have seen it; somehow, once the film had become the most successful movie ever (unadjusted for inflation) it stopped being cool to like James Cameron's eco-sci-fi extravaganza.Nowadays the film is often brought up in snarky movie blogs as a typical example for a film with great effects but a dull story, unoriginal ideas and bland characters, as if this were somehow the general consensus among film aficionados. \"FernGully in space\" or \"Dances With Wolves with blue cat-people\" are some of the kinder descriptions the film has to endure - which in all honesty I don't get.I mean, it's fine not to like the movie (all art is subjective and all that), but how so many self-professed film experts now pretend this critically acclaimed picture - which on Metacritic is rated even higher than 'The Dark Knight' - was nothing but a bland, unoriginal, run-of-the-mill Hollywood blockbuster that only succeeded thanks to the (then) novelty of 3D is frankly beyond me.What I find even more astounding is how the very people who decry the lack of original, director-driven blockbusters in Hollywood are often the same who turn up their noses at 'Avatar': an original, director-driven blockbuster that came out when most other big budget movies were either sequels or adaptations of already existing intellectual properties. \"The ideas in the film are not original\", they claim. Come on guys, seriously?So you've seen a world like Pandora before? A bioluminescent visual wonder that merges the colorful marine life of coral reefs with the lush vegetation of tropical rain forests? A world where nature forms an actual neural network that stores memories and builds a collective consciousness? You've seen many films about a bio-database that people can plug themselves into via ancient trees and communicate with their ancestors?You've watched countless blockbusters that take place in an eco-system where you can form instant symbiosis with other creatures depending on your needs? And by the way: how many \"eco-sci-fi\" films have you seen? Such a worn-out concept and tired old sub-genre, right?No my friends, in terms of Hollywood blockbusters, these ideas and concepts are about as original as they come, and some of them are even inspired by actual biological phenomenons (like the discovery that the roots of trees do indeed form a sort of neural network in a symbiosis with fungi where they are able to store and exchange information). But what is true is that the filmmaker cleverly chose a very straight-forward story to get his environmentalist plea and anti-colonial, anti-imperialist message across and make some rather complex sci-fi ideas more accessible for a broad audience.To that end, the film uses certain well-known story tropes (\"the spy who changes sides once he falls in love with an enemy\"; \"the soldier who realizes he's been fighting for the wrong cause\"; \"the invader who gets to know and appreciate the foreign culture he's invading\" or the timeless trope of \"the fish out of water\"), but they are not what the film is about. And those tropes are not copied from 'Dances With Wolves' either - any more than that film stole them from 'Pocahontas': they are so universal you can find variations of any one of them in numerous legends and stories and thus also throughout film history, from 'Lawrence of Arabia' to 'Shogun' or 'The Last Samurai' and countless others.And yes, our heroes Jake and Neytiri are not the most complex of characters (though neither are they as bland as the film's most vicious detractors claim), but that's because they aren't really the film's main focus. 'Avatar's actual protagonist, it's true star if you will, is Pandora. It's the WORLD we get to experience through Jake's eyes that really matters here, and the film aims straight for your gut - not your sci-fi nerd brain (which I suspect is the actual reason why so many former Cameron fans - now - claim to be disappointed with the film).More than anything, 'Avatar' wants you to lose your heart to this beautiful planet that functions as an obvious stand-in for our own threatened world, and the film is an unapologetic, uncynical declaration of love to the wonders of nature - as well as a call to action to preserve them. Which on an emotional level works marvelously: nothing in the film is as painful and shocking as the destruction of a single big tree, which symbolizes quite literally nature as the home and shelter we depend upon. It's a genius scene, and I dare you to find an action blockbuster where the distruction of a city or a whole planet carries even a shred of the emotional heft that the falling of \"Home Tree\" does in Cameron's film.So again (I'm trying to hammer my point home here ;-), 'Avatar' is simple? Yes, but that's the point: the simplicity and familiarity of the story are deliberate; the themes are not just derivative re-treads, they're as universal as those in myths and fairy tales and thus speak to everyone. And that's exactly what Cameron's intention was: to use simple enough tropes and archetypes to convey a heart-felt message that would work across cultural borders and reach people all over the world. Which, given the film's success, it obviously did.Personally, I think 'Avatar' is a prime example of visual and emotional storytelling done right, and viewing it for the first time offers an experience that is almost without equal in its immersiveness. And while this may only have been my own individual experience, 'Avatar' was also the first movie in a long time that completely vowed me in the sense that I felt like a little kid again in the theater - which had very little to do with the novelty of 3D. It was also the last time a film managed to do that.And even in terms of pure entertainment the film is simply spectacular. It's a rousing adventure with gorgeous visuals and top-notch CGI, filled with fascinating creatures and jaw-dropping future-tech, and the final 40 minutes of the film provide an all out, non-stop sci-fi action thrill-ride on a scale the world had rarely - if ever - seen before.Obviously that doesn't mean it's a perfect film, and as I already pointed out, it's fair not to like it for any number of reasons (above all: personal taste), but 'Avatar' is far from deserving the kind of snark and ridicule it gets these days. Get over it people: simple doesn't equal simplistic, and the fact that 'Avatar' is neither subtle nor cynical doesn't make it dumb (even if it does make it harder for some of us nerds to like it wihtout feeling slightly embarassed ;-).In all honesty, I believe if this had been a slightly more obscure film - instead of the most successful movie of all time - many of the same people who hate on it now would hail it as an epic sci-fi adventure classic for the ages. And as far as I'm concerned, that's exactly what 'Avatar' is: a modern classic by a visionary filmmaker and true auteur. Rant over.\n",
      "****\n",
      "I had the rather intense privilege to view James Cameron's much anticipated $400 million budget return to the directing scene, Avatar, at the Empire Leicester Square in London.Where to begin! The visuals in this pieces was groundbreaking. He did it with the Terminator series and then Titanic, so one would expect Cameron to deliver... and HE DID! The visual are by far some of the sharpest CGI I have seen. You could almost say that there is a disquiet that follows Cameron's soul, as there is no other possibility of this strong and intensified quality. Its production design and visual effects are both noteworthy and it will get its praise upon official release.What it was lacking that really should have shaped the movie is its character/story. I was expecting a complex and believable plot, but was left with a movie with mostly strong visuals. What most sci-fi lovers desire is mind-bending philosophies, fantasy and exploration and limitations of our or outer species. If it was not for this factor, I would give this a 9.5 vote.Avatar will be a success, not only because of Cameron's legacy, but by very intelligent and viral marketing. Avatar have had a powerful marketing technique that assembles other successful blockbusters, such as The Blair Witch project (you all remember it), The Dark Knight (Joker invades the world) and also, the current production The Artifice (the-artifice.com) that is intelligently targeting the market.Kudos to Cameron, Avatar is one of the (if not The) movie of the year. I could get in trouble for sharing this with you guys so early, so please click Yes on \"Was the above comment useful to you?\" as a thank you. ;)\n",
      "****\n",
      "Well, I just saw Avatar this morning, one of the press premieres which are running on these days. My opinion: you've seen this story a hundred times, but never like this. Finally 3D is what it's supposed to be, an instrument at the service of the movie. You'll enjoy the visual experience, no doubt.As for the story, some of the \"inspirations\" are so huge and so obvious that mentioning two or three of them would REALLY ruin the movie for you, and I'm not willing to do that. Lots of mysticism and ecology, if you like that stuff. If you're 15 or so, you'll have a great time thinking that it's the first time somebody makes something like this. If you're an experienced movie watcher, better leave your skepticism at the door, bring lots of pop corn and enjoy with the usual action-flick-with-moral-and-loads-of-clichés.I liked it, however: \"the movie that re-invents movies\"??? No way.\n",
      "****\n",
      "Let me preface this by saying I am a huge James Cameron fan. I think \"Terminator\" is a masterpiece of sci-fi and the single best edited film of all time, \"Aliens\" is easily the best sequel not from the original director and I personally like it a lot more than the original. \"Abyss\" created an interesting world and was racked with tension, \"Terminator 2\" is an action tour-de-force and has what I believe the best sound editing/design of all time, \"True Lies\" is goofy fun, more poignant than most give it credit for with a boffo ending, and finally \"Titanic\" was far better than anyone expected it to be and has one of the most believable romances in a movie.So then there was the 12 year wait for \"Avatar\". No reviews, word of mouth, ticket price or natural disaster would keep me from the midnight IMAX 3D screening. I went with moderate expectations, which the film matched exactly. While this kept me from being disappointed it wasn't a good thing.Movie fans were on edge because if \"Avatar\" flops, it'll mean the death of creativity in a remake-happy Hollywood. That's a valid concern but the problem is nothing in \"Avatar\" is creative whatsoever. It is literally \"Dances with Wolves\" in space, right down to having a \"Wind in his Hair\" character as a foil to the \"new guy\".As the movie progressed it caused the worst of all bad reactions for me as a viewer - I started thinking about other things. Then I kept thinking \"well the end battle is supposed to be awesome\".SPOILER WARNING! (if for some reason you can't guess how this movie ends) End battle comes and the movie switches from being \"Dances with Wolves\" to Disney's \"Atlantis\" (but that's unfair since both of those movies contained far, FAR better musical scores) Gunship windows that were impervious to arrows a few scenes ago (to show Na'vi desperation) suddenly become brittle and break easily (to show Na'vi heroism). The battle isn't nearly as long as you'd expect, and nowhere near as epic / engaging as the finale of Return of the King. Finally there's a Robo-suit vs Navi fight and it is admittedly pretty good. Unlike 95% of directors these days Cameron knows enough to pull the camera back and let us SEE the fight. However it's an odd choice to spend millions on 10 foot tall \"creatures\" and then rarely even have them in the same frame as humans.And of course there's the obligatory scene where characters are dying in slow motion as Middle Eastern vocal music plays (see Gladiator or Munich) Wouldn't have been so bad if I hadn't said to my friend on the way there \"How much you wanna bet there's a part where characters die in slow motion over Middle Eastern music?\"As with most movies these days \"Avatar\" is far too long, glossing over important details (why is Earth dying, what does Unobtainium do, etc) and instead spending time on flight scenes, mystic ceremonies, spirit trees and nature bonding.Ultimately I just did not care. Since the dawn of cinema Hollywood recycles old ideas every few decades and slaps on a bigger budget / new stars / better effects so you won't notice. I can see re-doing \"Ben Hur\" with color and sound, but why do we need \"Dances with Wolves\" with 20 times the budget and blue Native Americans? No amount of impressive visuals, robo-suits, gunship battles, perfect character CGI or Sigorney Weaver can change the fact that I've seen this movie 100 times before. I could even accept the weak story if there were any characters to give a rat's ass about. This film is also dreadfully humorless, a stark contrast to \"Titanic\" where humor was one of its many surprises.Regarding 3D... I've seen many films in it now and honestly you don't even notice after the few minutes. It doesn't make the money any better or worse, just more expensive.Citizen Kane, The Robe, Sound of Music, Jaws, Star Wars, Batman, Toy Story, The Matrix... these movies changed movies. We can say that looking back now. \"Avatar\" saying it would ahead of time is pure hubris, \"unsinkable Titanic\"-like poppycock.But if expensive motion-capture being used to cover up a weak, generic story is the future of cinema then count me out, I'll stick with my PS3.\n",
      "****\n",
      "I was lucky to see Avatar at a pre-screening a few hours ago. It completely blew me and the whole room away and i dare to say it will do so to 80% of any audience anywhere. The remaining 20%, who always finds something to complain about, will whine about character development, dialog, story or the pop-corn.Well, let me tell you: they went to this movie with the wrong expectations.You have most likely met Cameron's previous work(s): Aliens, Terminator 1 & 2, The Abyss, Titanic (!), just to name a few.So WHAT should you expect from Avatar??? MORE of the same!!! More of revolutionary film-making, more of grandiose new ideas, more of never-before-seen special effects, more of 150 minutes without relapsing, more of the James Cameron genius...I am very happy that the trailers didn't give the full story away. Lots of emotions are waiting for the viewer, laughter and tears also. Cameron was very smart keeping the teasers as teasers, nothing more... as the full movie will take your breath away.You will practically not notice that you are watching a non-existing world, it is sooo real. Attention to detail is superb. You computer geeks will know what I am talking about. This move was not rushed in the making. No wonder it could not have been done before - not having the proper computing power.The wild life, the jungle, the animals, the Na'vi-s, or the dragon-like flying creatures are all so life-like, they almost pop-off the screen (and in 3D they actually do :) .The sound effects were so well done, that when I saw at the credits that Skywalker Sound was behind it, i could only think of \"yessss... now THAT makes sense.\"Cameron is a visionaire - and again, he delivers, with full blast.A certain character says in the movie that Pandora (the planet where the story takes place) became his real world. My advice to you: let Pandora become YOUR real world for two and a half hours, let it make you completely forget about your life and problems, let it entertain you, move you, let it carry you away.Because THAT is what i expect as an exchange for my ticket.And a few hours ago i got tens of tickets worth of that.\n",
      "****\n",
      "When movies are created, they are done so with intent. Different genres of film target specific audiences, a formula which has sustained Hollywood and it's industries since the beginning of the blockbuster movies. When a movie is created in a manner that sets in motion any given goal, said films success is pendant on whether or not that goal is reached. If a comedy creates laughter, or if a romance produces tears, then they are successes in their own right. So when a massively ambitious, seemingly impossible to create film aiming to usher in a new era manages to grab hold of it's audience and take them on an unprecedented cinematic roller coaster ride that delivers the goods every turn of the way, it can be considered successful. Avatar is that success.A work in progress that spanned a decade and a half, Avatar is more than just a film - it's an experience, an event. When James Cameron set out to make this movie back in the mid 90's, he realized that his ambitions were simply too far ahead of their time. His ideas could not be reached in a feasible manner, and due to this, he had to wait. Or create. Once informed that the image he held for this film was one that was out of grasp, he began working on the technology that would bring his masterpiece within reach. Fifteen years and nearly half a billion dollars later, James Cameron has brought that vision to the screen, and has done so in an extravagant and showstopping way.Avatar tells the tale of a war between species, each fighting for the ultimate survival of their race. Desperate to find the fuel for their dying planet, human soldiers and scientists set out from earth and set course for Pandora. A planet connected by all living things, Pandora is home to an indigenous species known as the Na'vi, as well as the precious element Unobtanium needed to save earth. Using transference technology, paralyzed marine Jake Sully is volunteered for the \"Avatar Program\", which enables the thoughts and mind of a human to be placed within the shell of a tube-born Na'vi body. Using this as technique to their advantage, Jake is sent into the harsh Jungles of Pandora in order to bond with the natives, thus gaining knowledge and insight on their ways. Having originally planned to use this knowledge as a means of negotiating the natives relocation, so that the humans can access the deposit of Unobtainium - which just happens to sit below their most worshiped and valued pseudo-deity of their planet.While the plot on paper may read as a standard shoot'em-up action sci-fi flick, it is a near inconceivable task to truly explain how incorrect this appearance truly is. This takes a stroke from every movie, and a dab from every genre, and manages to create a portrait of beauty, in which all pre-existing notion of what cinema can and cannot do is destroyed. Within the lengthy hundred and sixty some odd minutes of film, moviegoers will find that there is always something to keep them enthralled, a merciful gift when considering how tedious many of the longer film of recent memory can become.No matter what can be said about the overtly cheesy script,a criticism that, while holding true, manages to fit charmingly into the over-the-top nature of the film, Avatar does as it set out to do, bringing moviegoers a cinematic experience rather than a film. Relying on the technology that he created, Cameron pours his heart into this movie, and it shows in every scene. Ranging from the absurdly detailed creatures to all-too-realistic planet, this flick manages to tell a fulfilling story while all the while throwing jaw-dropping scenery at the audience, giving them only enough time to recover before bombarding them with yet another breathtaking shot.Be it the fantastical and charming love story told between the native and the outsider, or the too-real-to-be-true action scenes between gunships and foreign ferals, Avatar is what Star Wars was too the 70's, the Wizard Of Oz of the 40's - a masterpiece that will go down in movie history as a game changer of it's time.4 Stars out of 4 Stars\n",
      "****\n",
      "I saw this epic last night at the Empire Leicester Sq in London, which is a superb venue in which to view this film. Huge screen, excellent sound and an extraordinary Dolby, 3 dimensional image. The whole effect is mind blowing.This is a 'Must see' movie, innovative, and extraordinary. I think it will be regarded by most cinema goers as another milestone in the history of the art. The level of realism achieved is remarkable, and although the film is relatively long in real time, it retains it's excitement and holds the audience's attention to the end.Performances are good, but this is not the sort of film that dwells on big star value for the actors, although Sigorney Weaver does shine and delivers a very convincing performance, as do the rest of the cast. But as there is so much entertainment and action value on screen the human element does not dominate in the usual way.As Writer/Director, James Cameron deserves high praise for this creation and in my opinion it will break box office records. I thoroughly enjoyed this film.\n",
      "****\n",
      "First of all, let me get it out of the way: yes, Avatar is visually stunning. With better scenario and dialogs, it could have been a very good movie; alas, it was completely predictable, and fancy special effects alone do not make a good movie.Let's start with the picture. As I said before, the special effects and computer animation are really good; the textures feel very real, and the degrees of liberty that CGI animation allows in terms of camera angles and movement is well used for dramatic effects. The luxurious vegetation of the forest and the CGI-animated wild animals are a treat to the eyes. In terms of artwork, there is a definite influence from Nausicaa (the forest-world, the spores) and Starcraft (the vessels, the goliaths). I saw the movie in an IMAX movie with 3D glasses, but I am not convinced that they used the full potential of it - quite honestly, the Haribo commercial before the movie made a better use of it. I find it more strenuous to watch a movie with the 3D-glasses - some details are blurry, and it feels likewise when the camera makes swift lateral movements.Now, the scenario - the movie disappoints in that area. The plot is very Manichean, and it feels like a remake of Pocahontas, interspersed with elements from / tributes to Star Wars (Pandora and the Na'vi look like Endor and the Ewoks respectively), Nausicaa (the forest as an entity, the destructive impact of civilization on nature, the spores in the forest), Starcraft (Colonel Quarritch and Dr Augustine bear some resemblance with Arcturus Mensk and Sarah Kerrigan), Matrix (the concept of controlling another image of self), and maybe even Independence Day (the pilot fighter suicide) and the Lion King (the father's death, \"go, and never come back!\", ... am I going to far here?). But I can honestly say that I haven't been surprised at any point in the movie. You know from the beginning that he will be accepted by the Na'vi, that he will fall in love, that he will defect, that he will ultimately prevail after suffering some heavy casualties, and that he will find a way to permanently transfer his mind into the body of his avatar.It would have been interesting if the movie had dealt in more depth with the issues related to transferring one's mind into another body for instance, maybe a la Twelve Monkeys Army, where the \"hero\" is clearly deeply affected by experiences that the mind is not used to deal with (time travel in that case, but it is not that different from what we have here). Likewise, the love interest of our hero seems very indifferent to the fact that he really is a human remotely controlling a human - Na'vi bastard. I was expecting someone (him, her, or even one of the other humans in the scientific group) to show at least some kind of surprise / doubt when these feelings emerge. I was expecting more complexity in the social interactions of the characters, and their personality.I also take issues with some big stereotypes: corporations and the white men are greedy, indigenous people are pure, brave, and connected to the earth, but dumb - thankfully there is a human to teach them how to fight those who come from the sky. To some extent, the movie feels like a remake of the colonization of the Americas; just replace the Na'vis by native Americans, the aircrafts by ships, and modern weapons by muskets, and you have it. Except of course the colonization of the Americas did not have such a happy ending for the native tribes.On the whole, the movie is beautiful, but it feels like the main goal was to showcase fancy special effects. The movie would have benefited from more detailed characters, and a less linear and predictable plot. My rating is 6/10.\n",
      "****\n",
      "Nobody directs like James Cameron. Ten years in the works, and every minute was worth it. It is the Star Wars of the 21st century. Though the plot is derivative and bears some pretty close resemblance to Dances with Wolves and a little bit of The Last Samurai, it does not ruin a mind-blowing experience. Avatar has a great future ahead of it and, possibly another Oscar for the mighty James Cameron. Jake Sully, is an ex-marine, bound to a wheel chair. He seeks to make a fresh start on the moon Pandora where his brother worked. The moon has a military run mining colony. The business has brought humans into contact with the local natives, tall blue dudes, called Na'vi. The Na'vi inhabit a part of the moon under which lies a large deposit of valuable minerals, and the humans are trying to get them to relocate. Colonel Quarich who runs the operation, ask Sully to go under cover as a Na'vi, to learn the secrets, to give the humans an advantage. If successful, Sully will get his legs back. The magic of future science and 3-D effects give Sully a handsome genetically engineered Avatar body, and he embarks on his mission. Once on the inside however, his loyalties to the humans start to turn when his heart gets lost to the Na'vi princess Neytiri. Is he willing to fight on the blue side now?The landscape of Pandora is the most creative and inventive of the decade. There are creatures that you might find in your wildest dreams or your worst nightmares. There is flora and fauna that shine with the bioluminescence of a thousand deep sea critters, and also trees which dwarf the Empire State Building.I guess the only noticeable problem with Avatar, is a lack of original story. What you see on the screen will blow you away, but all the tough critics, may come down a bit on the fact that despite being the latest in film technology, Cameron uses a very old archetypal formula, perhaps just a bit too schematic. There are a few badly scripted segments of dialogue, but nothing that makes you wanna blow raspberries at the screen.What is most important is the fact that Cameron's story gets the viewer involved and offers a handful of memorable and likable characters to root for, and some to root against. This is the post- modern era, and originality is rare, but if there is any technical progress to be made in the world of movies and entertainment, there is one name that dwarfs all JAMES CAMERON, and after ten years hiding from the Hollywood mainstream, he is back.\n",
      "****\n",
      "A film with the scope of James Cameron's Avatar was always going to be a risk both artistically and financially, especially in today's economic climate. Whether it will pay off monetarily is a question only time can answer, but this viewer can at the very least attest to it being an artistic triumph.Avatar brings us as close as cinema ever has to actually visiting an alien world. The beautiful environs, the exotic creatures and incredibly lifelike natives of Pandora arrest the senses, visually, aurally and emotionally. The world in Avatar is the true star of the show. The amount of detail and work that has gone into bringing this new world alive is seriously impressive, and it will be a while before we see anything that overtakes it in scope and quality. WETA Workshop and ILM have truly outdone themselves.Relative newcomer, Aussie Sam Worthington provides a solid human heart amongst all the science-fiction/fantasy beauty and Zoe Saldana gives an impressive performance as the 8 foot tall Na'vi, Neytiri. Even though the characters they both play are blue, giant, catlike aliens, they managed to evoke a chemistry and likability that pierces through the special effects.That's not to say that everything is perfect. The story is basic and dare I say, clichéd and predictable. We have seen it plenty of times in all forms of media. The bad guys are cartoonishly evil, and sadly paper thin. The love story, while charming, is also clichéd despite being between man and alien. But in the face of these shortcomings, Avatar is a success because its storytelling lies in the brilliant visuals.Avatar is a beautiful piece of film and a true event. It does exactly what cinema was always intended to - it takes us away from our problems and worries for a few hours and gives us memorable images which will undoubtedly and deservedly enter into the cultural lexicon to stay for the foreseeable future.9.5/10\n",
      "****\n",
      "Forgive me, I'm going to jump from professional to fan boy for a while here. I haven't had the jitters after a film the way I've had for Avatar in quite sometime. James Cameron's Avatar is the most entertaining and enthralling cinematic experiences of my life. It is incredible, simply put. What Cameron has done here is the most passionate film project put out since Steven Spielberg released Schindler's List. His attention to detail and his zeal for pushing the envelope is so admirable to any filmmaker or actor who will ever do another film from this point on.Avatar is the story of Jake Sully, a paraplegic marine, who replaces his brother on a secret mission to infiltrate the Na' vi, the colony of beings that sit on the planet of Pandora, where there is a precious ore, that sells at a ridiculous amount. When Jake learns the ways of the Na' vi, his feelings and learnings will put him and the people he trusts in dangerous jeopardy.The performances here, in the sense of reacting, becoming, and understanding what Cameron has written are astounding. Not to be confused with a sensational bravura performance from some of the centuries best such as Marion Brando, Tom Hanks, or Diane Keaton; these actors along with the director inhabit these visual transformations with special effects as if they are have lived these beings all their lives. This is all based on character movements and reactions. Sam Worthington, as Jake Sully, is an actor who's on his way to becoming a star. Though he has problems with his Aussie accent often enough in the film, he gets the job done. Zoe Saldana, who plays Neytiri, a Na' vi huntress, is thrilling and electrifying. Stephen Lang, as the rock hard Colonel Miles, takes on a villainous turn to a new level in science fiction. He offers actual emotion and emotes evil to the audience and gains our hatred easily. Sigourney Weaver as the beautiful Dr. Grace, is sufficient enough to have on screen again teamed with Cameron. She lives inside her role with effortless ease, but suffers from some of the typical James Cameron cheesy lines.Narratively the film works perfectly on the cinematic level. The first forty minutes or so require patience and hope as it is the weakest part of the film and offers some dreariness, but when the second act takes off, it's sky high with no limits for James Cameron. Avatar delivers the best action sequences put on film of all time. That is the boldest statement I have ever made in all my years of criticism. I sat on this for two days before charging it out, but I mean it. It is the best visual experience of my life, period.Other than those visuals, the film pops with all the other technical aspects thrown into one. Art Direction is killer as the two worlds blend in perfectly for an acceptable time. The Film Editing is the crowning achievement of the film as it also offers the perfect blend of the two worlds, enticing the viewer and shifting us around. Mauro Fiore is the threat for a Cinematography Oscar this year. It was if the viewer sat down in a chair, put on glasses, and was literally placed on Pandora, spaceships, and floating mountains. The viewer can feel so engulfed by the imagery, you feel like you can smell the leaves from the trees. Avatar is utterly hypnotizing. James Horner's score is some of the best work done in his career. It offers a variable of devastation that moves the viewer to near tears. It goes back to his work on Titanic, where the musical instruments lifted the material immensely. The entire sound team is also locked and loaded for Oscar recognition as the feeling of animals, machines, and arrows buzzing by your head leave you imprisoned in Cameron's exquisite film.James Cameron has come back home ladies and gentlemen Cameron is back, bigger, badder, and mature in his crowning work of his career. Terminator 2: Judgment Day and Titanic do not even compare anymore. This is the film that can blend the fans of those two films together and lock Cameron into your heart. He's a definite spoiler for a directing bid for the Academy Awards. You have admire the raw, natural talent the man has. How could you ever conceive such an experience and put that much effort and work into it and have it pay off? The box office success will surely keep him in the minds of voters for various critics' awards. His screenplay, leaps and bounds better than 1997's Best Picture Winner, is primed, developed and ripe for the taking. Though, you do acquire the tacky and atypical dialogue you expect from a science fiction director of this caliber, you can appreciate the effort and the honesty of it all. James Cameron is everything Michael Bay wishes he was, to put it bluntly.Avatar will bring also great actors putting their best foot forward such as Giovanni Ribisi, who is as underrated as they come. Michelle Rodriguez who exudes sexy like any woman starring in a sci-fi epic. Joel Moore, showing his range outside of his comedic work in Dodgeball: An Underdog Story. And the classy veteran actors, CCH Pounder and Wes Studi, who just simply don't work enough.Avatar is one of the best films of the year. The most exciting, thrilling, and superb work you'll feast your eyes on in any theater this century. Cinema, forever, will remember the benchmark that James Cameron placed not only for himself, but for any man, daring to change the game, the way Cameron did. Avatar is a movie experience to be remembered, and please experience in a movie theater first.***½/****\n",
      "****\n",
      "It has been 12 years since Cameron unleashed the phenomenon that was Titanic and real fans would have to look as far back as 1991's Terminator 2 for their last proper dose of his incredibly epic action (True Lies, while fun, really doesn't count). So the anticipation for Avatar has long since reached fever pitch and beyond.Thankfully for the patient masses, Avatar has turned out to be the biggest and best event movie of the year, perhaps the decade. The story is pure Cameron simplicity – a paraplegic ex-marine is given a chance to walk again through the use of a unique alien body, called an Avatar. It is his job to gain the trust of the natives so that a greedy corporation can steal the precious metal from their lush moon. Jake's (Sam Worthington) crippled main character is the perfect point of contact for the audience – not only is he new to the visual delights of Pandora but his disability means that every moment in his Avatar body is one of glorious freedom from the confinement of his chair. When the Corporations intentions become more sinister, Jake must choose between his new found place with the natives and his own race and fight for what he believes in.Avatar combines parts of Pocahontas and Braveheart with a liberal dose of Space Marines into an epic whole that takes nearly three full hours to unfold. We could criticise that length, the weak story and the hammy dialogue. We could attack its thinly-veiled ecological message or the frankly bizarre spirituality in its second half but honestly nothing can spoil the experience while you are enveloped in it. And a large part of that is down to the brilliant use of 3D – which is both subtle and incredibly effective. Til now, we have been making movies with 3D elements, Avatar is the first truly 3D film and might well prove to be one of the most significant things to happen to blockbuster film-making since Star Wars.Cameron is also pushing the envelope with truly photo-real CG – something which has been promised for years but has finally been delivered with Avatar. The interactions of the characters with the environment is incredible and the detail on the faces of the motion-captured leads (Worthington and Star Trek's Zoe Saldana) bring them to life. You will believe totally in their performances, representing another quantum leap in tools which have rarely been used for anything other than spectacle.Make no mistake, Avatar is an important film from a technical standpoint but it is also great entertainment. The world of Pandora is a stunning spectacle from scene to scene and as Jake learns more about the Na'vi the film approaches the kind of light hearted adventure story which has been absent from movie theatres for years. Then the final act explodes into tragedy and desperate action, with the final half hour a blistering life or death struggle that has to be seen to be disbelieved.Over the coming days you will be hearing a lot about Avatar, and some of the critical reaction is bound to focus on its weaknesses in a bid to appear appropriately reserved and objective. But this is not a film to be dissected or examined, rather one to be experienced with a warm crowd, a great sound system, in 3D as you bask in the knowledge that the movie-making master is back!\n",
      "****\n",
      "...........................................................from Pasto,Colombia...Via: L.A. CA., CALI, COLOMBIA and ORLANDO, FL There have been only about a score or so of films that have transcended being simply a movie and, because of their unprecedented impact upon many millions of viewers, have contributed to our culture, becoming part of it, and more recently, to that of the entire world. After being 62nd birthday-treated to AVATAR in IMAX 3-D by my wife, I state, for the record, it is an incomparable voyage, a magical mystery tour experience, to a poignant culture-clash on an enchanted world most distant both in time and space",
      "A movie it is not! Visionary James Cameron has created, crafted and orchestrated a labor of love for the ages. At long last, CGI has come of age, finding in AVATAR a vehicle capable of demonstrating the awesome splendor of its true potential. We are transported to an intricately designed world, complete with a Neolithic race of aliens, rich with culture and traditions, speaking its own uniquely linguistically engineered on-screen language (A Cinema First) As for the \"It's Anti- American!\" grumblings: 1) The troops were not even U.S., they were corporate hired guns! 2) Life isn't about winning or losing battles: It's about living in harmony with one's environment",
      "At least that's how I saw it. Wow! Talk about nefarious agendas! In the opening seconds, James Cameron seems to pay tribute to both 2001 and Star Wars. Some reviewers have mentioned a similitude to Pocahontas. There were different moments that conjured up memories of story threads from many different films, but thematically, Dances With Wolves was, perhaps, closest. However, a straight up comparison to any other film does not do AVATAR justice. It is totally in a league of its own.Every aspect of AVATAR is practically hyperbole-proof. Just look at the plethora of gushing reviews. Yet, amazingly, there are some 2*, even 1* ratings! Honestly, I can't fathom how anyone who has ventured more than 100 miles from their place of birth could rate it less than 5*. (The word Provincial keeps popping into my head!) Closing words: The only film in my life that raised the cinematic bar more was Stanley Kubrick's 2001: A Space Odyssey(1968) Don't just see AVATAR",
      "Experience it! 10*....ENJOY/DISFRUTELA! Any comments, questions or observations, in English o en Español, are most welcome!.....KissEnglishPasto@Yahoo.com\n",
      "****\n",
      "I realize I am probably going to get flames galore for this comment, and you all have the right to your opinion about my opinion, but hey, I'm entitled to my opinion too. Avatar is grade A crap. That's right, it's crap. I say this for one simple reason: Without the special effects this movie would never, ever captivate and take a hold of audiences like it has in the past week. Ask yourself this one question: If it didn't have the effects, the Navi plugging their hair into the trees like it's a damn broadband jack, mech suits(just like the ones in Matrix Revolutions) and barely futuristic ospreys, would you care about this movie at all? It's a truism when they say this movie is nothing more than Dances with Wolves in space. Some people may argue back that Star Wars borrowed from Hidden fortress, but at least it had enough compelling plot points to make it look different, such as I don't know... the force? The Death Star? Outer space? A location that has NOTHING at all to do with Earth? This important set of points clearly differentiates Star Wars and Hidden Fortress. But The difference between Avatar and Dances with wolves is... CGI. This CGI may be pretty but it cannot ever substitute for story and plot development. Speaking of, the characters save but a few are either very bland or stereotypes. The worst part is the story and the movie gives us no reason to care about the characters. You know what? I'll go one step further and say that the only difference between Avatar and a Star Wars prequel is this: Avatar has an environmental story that we can relate to. That's it. True, the action scenes in Avatar are well done, but hell, the action scenes in the Star Wars prequels were also arguably well-done. Still, there's that nagging lack of story development. Avatar is a huge let-down and doesn't belong on the best-of list of anybody with common sense.\n",
      "****\n",
      "I have never been so close to leave the movie theater, as i was when seeing Avatar. Sure, it's very beautiful to look at, but, if you've seen the trailer, then you've seen the movie! It's basically every movie clichés put together in one horrible and so unoriginal movie. it's a mix of the \"last samurai\" meets \"Pocahontas\" meets \"Atlantis\"! it's by far the most horrible storyline since Ed Woods' \"plan 9 from outer space\".Not once are you surprised by the turn of events in this movie, and there's so many bad movie clichés in it, and so many things that just doesn't make any sense at all (even in their universe). for example, the last fight scene with the giant robot and the Avatar. It really doesn't make any sense at all, that the robot is carrying a 8-foot-1 hunting knife, just in case he loses his gun (which could easily have been attach to the robot!), and that the robot tells the avatar, what he's about to do, instead of just doing it (A good example of a bad cliché).If you want to see this movie, i recommend you either see the trailer ( as that is enough for you, to litterily, call every scene in the movie) or you go out and buy Atlantis and just Imagine it with smurfs instead of underwater people.\n",
      "****\n",
      "I actually enjoyed this quite a bit, but I am giving it a 1, because I cannot believe that it deserves an 8.8, which is what it is getting this evening, mostly apparently due to suspicious ratings from countries like Slovakia, India and Australia. Not that I have anything against those countries, it just strikes me as odd that so few good reviews are coming from the United States. I'm not saying that IMDb's ratings are being manipulated by some sort of conspiracy, I am just saying it is odd. Anyways, rather than try and balance my review with what was good (the visuals, the 3D, the sound effects), am just going to say what really sucked. Can I say \"sucked\" in my review? Guess I will find out.1. \"Unobtainium.\" Really, \"unobtainium?\" Was this a kid's cartoon? 2. Sigourney Weaver's confused and cartoonish scientist character. She's tough, she smokes, she has a heart of gold, and her Avatar dresses like Dora the Explorer. Also, why try and make her look twenty years younger than she is? I can't tell if they used CGI, Botox, or a ton of make-up, but she looked like the female version of the Picture of Dorian Gray. What a waste of talent.3. Hundres of years in the future, they can create magical avatar clones and transmit brain signals to them, but they still use flimsy wheelchair thingies? 4. Less than a half dozen animals on Pandora, and all but the floating jellyfish are angry and violent. Really? No fish? No birdies? No toads, snails, foxes, puppy dogs, kitty cats, mosquitoes, or anything but those half dozen CGI creature types? Seems like Pandora was populated by a relatively cheap CGI outfit.5. The trees all communicate through synapses, and this is supposed to be ominous, yet this never turns into anything compelling. Did Jimmy Cameron get tired of his own idea? Or was it to hrd to animate something more interesting? 6. Almost half a billion dollars to make this?!?!?!?!? 7. \"Unobtainium?\" \"Unobtainium?????\" 8. Cartoony tough military guy who does not have a clue how to organize a military campaign.9. The Na'Vi speak broken English that somehow becomes perfect English on and off throughout the movie. And the Avatars speak perfect English in normal tone of voice, identical to their human voices, although their bone structure is completely non-human?!?!?!? 10. Unobtainium I could go on and on, but you get the picture. This was like an extremely expensive and pretty kiddie cartoon. What a waste, and absolutely NOT deserving of the rating it is getting here.\n",
      "****\n",
      "At the risk of repeating what countless others have said, this movie is blatant plagiarism. If a film student submitted the Avatar screenplay to an instructor, he/she would have been given an F. Colleges expel students for less obvious ripoffs than this. If you've watched Pocahontas or Dances With Wolves, you know the drill. The only difference is the ending, which has the pretty blue humanoids escorting humans to their Earth-bound ships at gunpoint, which I freely admit is a rather neat sight since my ancestors were American Indian, Irish, and Scot. As a result, I am perhaps overly sensitive to the plight of a civilization driven from their homeland and/or oppressed by a conquering nation - er, planet.However, originality is not James Cameron's strong suit, so my disappointment is directed more at WETA. Yes, my beloved WETA, who impressed me throughout the years but completely stole my heart after the masterful rendering of all things Tolkien in the Lord of the Rings Trilogy. I had two reasons for seeing this film. One was a 13-year-old boy, the other was my anticipation over what wonders WETA would lay at my feet.Now, had the budget not been nearly half a billion dollars, I'd have understood the cartoonish creations, but as it stands there's no good reason for the results. Viewers are praising this film as revolutionary. I call \"horsesh!t\". This was nowhere near the caliber of WETA's LOTR work, their King Kong work, or their X-Men work. In fact, it wasn't even up to snuff with their Narnia production. The quantity of work was greater, not the quality.I've never reviewed a film in my life. I actually registered here for the sole purpose of expressing my resentment at having wasted $20 bucks and 3 hours on such nonsense. Booooooo.\n",
      "****\n",
      "First I didn't want to go watch Avatar because when I heard Cameron took 3 weeks to write the plot I said to myself there is no hope for cinema anymore. And somehow people are showing me that I was right. I went to watch this piece of .... because I have been told it s unbelievable.Storywise, there is no story at all. It's the typical good vs bad scenario shaped out of cowboys against indians in space mixing it with a yogi everything connects us to the world impression plus a goddamn planet called Pandora and looks like f...in' paradise. Lot's of shiny colours and huge monsters who eat flesh are your best friends. Come on. You gotta be kidding me.Maybe I might be the only one here, cause all reviews I've seen got great score, but that is not what a movie is supposed to be. I was very unimpressed by the CGI and the artistic development because I might be used to computer games such as Final Fantasy series which has been the shaper of such incredible stories, only that these games have a very strong story to tell and and you feel totally involved.It impresses me that people give this such a high rating because of it's visuals. I mean it was clear that sooner or later a movie would appear with such incredible CGI. If it wouldn't have been Avatar another would have been the winner.I am sad that nowadays cinema is ail centered only about violence, good looks and a huge lack of brain.3 out of ten only for the cgi which I thought is not the center of a movie otherwise I would have rated it beneath 0.\n",
      "****\n",
      "I am sure my comment will be lost in a sea of blue but anyways here goes...Just attended the Advanced Screening at my local \"Event Cinema\" BCC in 3DNow this movies graphics are gorgeous, everything is so real, the 3D just adds to the effect beautifully without distracting you.From a technical standpoint this movie is amazing, just the detail on the Navi's faces are amazing, they feel more real then their real life counterparts!Without giving anything away about the story, the plot itself is very solid, very character driven and perfectly executed by Jim, safe to say this is his best original story since \"The Terminator\" and \"Terminator 2\" and is definitely one of his best movies, so good it ties with T2 which is my most favorite movie of all time...So for those of you who have not seen this yet... WHAT ARE YOU WAITING FOR?!5/5\n",
      "****\n",
      "\"Ok, I get it.\" That's a phrase I found myself saying an awful lot during this 2 1/2 hour computer game that was as painful to the brain as it was to the eyes.First, let's get the obvious out of the way. This film was expensive, in that it cost so much money to make you could solve at least one state's budget crisis with it. So why did it look like it was nearly all conceived on a computer? Not since the \"Star Wars\" prequels has the \"fourth wall\" ever been so demolished. Never once did I care about the characters or believe anything the actors tried to do because I knew it was completely artificial. Hell, people still complain about \"Waterworld\" being overpriced but at least people actually got off their duffs and did some real film shooting! This whole project stinks of imported bottled water and soy lattes. This film is the pinnacle of Hollywood overkill. An overblown, overpriced, overindulgent eyesore of a movie with a \"message.\" Oh yes, the message. Underneath watching the latest in nerd fantasy-fulfillment with its CGI, is a liberal-minded jackhammer drilling into your psyche about the evil of American corporatism, military culture, and rich white men's greed. The noble intent of getting its audience to care about the environment is done in the LSD-esquire rainbow cornucopia of every Native American and African stereotype imaginable, all set to an \"oweyo oweyo\" New Age chorus that makes one actually pine for the sweet sound of the Jonas Brothers. I say this as a die-hard independent who has as much to say about environmental awareness as anyone with a college education, but the caricatures painted here border on MSNBC-levels of leftist philosophy. The bad guys are the Republican racist military and corporate oppressors, who refer to our heroes as \"tree huggers\" and the alien Navi as \"savages,\" and see their violence against them as \"fighting terror with terror.\" I'm not kidding, they actually use soundbites from the last decade as part of the script. One character actually refers to the military attacks as \"shock and awe.\" If you don't want to heave from the vertigo-inducing sweep of the completely sterile computer-created world of Pandora, the dialog will surely get you to bending over the toilet cursing the day you ever thought this was worth even half its price tag.See, there was a movie made very recently that dealt with valid socio-political issues that was full of interesting characters and top-notch CGI at a fraction of \"Avatar's\" cost. It was called \"District 9\" and if you haven't seen it, do so and then come tell me what you thought of \"Avatar.\" Because the former film was able to show the evils of racism without painting its characters as one-dimensional caricatures. It showed that greed knew no color boundaries, and that you can combine action with a message and not be beaten over the head with it.I would advise people to avoid this film, however I know that is next to impossible. This has become the new \"Titanic,\" where seeing it is not only an option, but a requirement with some groups of people. I like to refer to those people as \"STUPID.\"\n",
      "****\n",
      "This movie is perhaps one of the most spectacular I have ever seen. Throughout all three hours or so, I was held spellbound by the scenery, action, and storyline of James Cameron's dream. I do not think I glanced at my watch once throughout it, and I can honestly say that I didn't want it to end.First: the visual effects were absolutely stunning. James Cameron did not just create a world; he created an entire ecosystem that could be plausible if we didn't know better. The first time the Na'vi were seen, the person I was with leaned over and asked me if they were costumes or special effects, they were that real. The Hallelujah Mountains looked amazing, and the wildlife, although it would be frightening in real life, was just stunning.Second: the themes were great. Although stone-hearted critics (like the ones on here who gave it a 1/10) may argue that it was unoriginal and a direct copy of other movies, there are very few movies coming out nowadays that you couldn't say that about. I noted themes in this from several different movies, the most prominent being Dances with Wolves, but that wasn't the only one. It also took a theme out of real life: people destroying the environment for such petty things as money. The reality of it is one of the most disturbing things in that film.Third: the storyline was great. It does have similarities to Dances with Wolves, but there was so much more to it than that that you really could not say they were the same thing. Dances with Wolves did not go into the training nearly as much as this did. There are several others, but I won't name them all.Basically, this film is about as epic as you can get, and shame on all of you who think it was bad because it took themes from other movies and enhanced them. You will never find a movie that doesn't.\n",
      "****\n",
      "Science fiction is, at its core, more than just a hypothetical fantasy about our distant neighbours twinkling in the night. It is also a reflection on humanity. It holds the mirror up to our faces and forces us to question who we are; when our aspirations, morals, ideals and weaknesses are put to the test, are we really who we think? And what is our place in the great darkness that surrounds us, frightens and amazes us? To know your own culture; learn another man's customs. It is only by comparison that we can truly see ourselves. And it is also only us, as subjective individuals, that can know who we are beneath our human exteriors. Many of us focus too much on our weaknesses and turn to God/s and religion for love and acceptance despite our faults, with heaven as the ultimate point of approval. Acceptance by someone or something that truly sees us, not only the shortcomings, but also for what we hope to believe that we fundamentally are; good, decent, with the heart in the right place, trying to make the best of what we have been given. Some of us don't believe in God, or profoundly question his/her/its existence. Many fear death, the unknown, never to see, feel or experience anything again. To be forgotten. For ever.So the question becomes: does this introduction have a point and what does Avatar have to do with it? Mr James Cameron is a self-proclaimed sci-fi nerd and - not to mention - a human being (although I agree questionable, let us make that assumption for convenience sake) and just like many of us I am sure he shares many of the same existential thoughts and questions that find their way into our human brains and skeptic hearts. And like many of us he seems to share a craving for adventure, discovery, enlightenment and a curiosity of the world, the universe and the beings with whom we happen to share our short time here on Earth.With Avatar, Mr Cameron manages to address most of these existential questions: who are we? Not in the comfort of our living rooms, nestled in the sofa with a bag of crisps and a chocolate bar in front of the TV, but in the face of choice. The choice between convenience and what we believe in. When all the luxuries have been taken away, and all the shields and walls and layers have been peeled off, do we like what we see? Avatarians have an expression; \"I see you\", which comes with such a deep ring to it because it is what we all want the world and people around us to do; to recognize, appreciate and care about us and to see that no matter how we might act and react on occasions, deep down we are good. These glasses we desire others to wear when they look at us also have another umbrella term; love. Some say love is blind, but to me at least, real love is not blind, it is understanding. It looks beyond the flaws and recognizes us for all the good things that we are. It sees our actions from our point of view.The story of Pandora's box in Greek mythology depicts how numerous evils were let into our world in a moment of weakness on Pandora's behalf. In much the same way, humanity in James Cameron's Avatar goes to the planet of Pandora and is confronted with a choice; open the lid or let the box be. Naturally, the greed (for money, power, etc) wins, and so, the lid is opened. Naturally, it has consequences. However, just like in the original story of Pandora's box, something else was let into the world when the lid was pulled away, something to counterbalance the evils that had been unleashed; hope. The hope that the good will, eventually, win. In Cameron's Avatar, this hope is represented by a group of humans who are not set out to exploit the people and resources of Pandora, but to understand it. And with understanding comes the ability to see clearly, and with this comes, ultimately, love. Love is not blind, but ignorance is, and ignorance is the root of most evils taking place in the world today.We all choose how we want to see the world. Everything is neutral as far as the universe is concerned; there is no good or evil, no good or bad, no morals set in some sacred stone at the heart of the heart of the universe. Morals are what we, humans, have created because we have a conscience. We have the ability to empathise and sympathise, to see the world through other's eyes as if they were our own.On Pandora, everything is connected; the trees, the animals, the flora and fauna, the past and the present, the living and the dead. If we as humans could be as connected with each other and communicating as much, I believe understanding of each other's differences would ultimately result in the realisation that we are in fact more similar than different. I believe that one such medium of communication already exists today – the Internet. Another one is the media but the question is how well it is working.I think Cameron's intended message with this film is very simple and – I admit – very cliché, but also very true and it doesn't hurt to be reminded of every once in a while; to see what we value and to stand up for it.Plus, it's easier to see the world through another's eyes when it's presented with such smashing CGI...\n",
      "****\n",
      "\"Avatar\" is not the next \"Star Wars\" or \"Lord of the Rings.\" It might be the next \"Matrix,\" though. Or, perhaps more accurate, the next \"Matrix Revolutions.\" It's technically groundbreaking craftmanship put to work on a story that was played out after \"Return of the King.\" There are a lot of bad guys, a lot of good guys, and sooner or later they're all gonna meet on the battlefield. The little details are not-so-shockingly unimportant, since nothing could stop, change or even, really, comment on the unstoppable trajectory of this film's story.It's the future. An Evil Corporation is parked on distant planet Pandora, mining the planet of all its precious minerals. The native population, big blue humanoids called the \"Na'vi,\" aren't too happy about this. The corporation has hired scientists to create avatars of Na'vi bodies to be controlled by human brains, in order to communicate to the Na'vi that...they better move, lest be bulldozed by the evil Col. Qautrich (Stephen Lang).Jake Sully (Sam Worthington) is flown in to Pandora because his twin brother, who had an Avatar made specifically for him, is dead. The coincidence is an obvious plot device so that we can have a newcomer to Pandora to share in our amazement. Oh, and he's paralyzed, so running around in his new alien body is rather freeing for him.I don't feel as if I need to continue with the plot description. You know what'll happen. You've seen \"Dances with Wolves\" and \"The Last Samurai.\" Heck, even \"Dead Man.\" The Na'vi represent nature, the (all-American) corporation represents destructive technology. Quatrich has a Southern accent and says things like, \"we have to fight terror with terror.\" The Na'vi are clones of Native Americans - filtered through the imagination of a white liberal. It's all very obvious.The question, of course, is whether or not it's entertaining. Well...sometimes. It certainly looks good. Some sequences - especially those with the winged beasts - are eye-popping. Lang makes a fun villain. Pandora is more derivative than original, it reminded me most of Skull Island in Peter Jackson's King Kong. All the monsters have a plastic-y look to them that make them feel too well-done. The 3D is distracting at times and I had a headache before the movie was over.But there are scenes and individual shots that pop with ethereal beauty. It's worth seeing for that reason, but I don't think it'll be as fun after multiple viewings. The great thing about \"Star Wars\" was the characters: Han Solo, Luke Skywalker, Princess Leia, R2-D2, Darth Vader, Obi-Wan Kenobi, Yoda and so on. They embodied the other-worldliness of the story, taking the weight off the effects.In thirty-two years, I don't think anyone will remember \"Jake Sully.\" 6/10\n",
      "****\n",
      "I simply cannot believe how over-zealous the users of this site are. Actually i can. It was exactly the same for There Will be Blood and every other hyped film there has been recently. Some of the adjectives used to describe Avatar beggar belief: 'The Best Movie of All Time' 'A Masterpiece' 'Mesmorising, Spellbinding, Extraordinary!'. I really do wish i could agree. I was looking forward to this as much as most and i'm a huge fan of Cameron's previous work. Avatar, however, is a massive disappointment, and i'm convinced once the hype surrounding the technology and CGI dies down people will realise that. It really is a reflection of the times that people can be so suckered in by fancy visuals and things blowing up. Please, for a moment, look at the merits of this film, CGI aside, and you'll see that they are pretty much on par with a hundred previous sci-fi b-movies/TV-series. The story is completely derivative, the action unrealistic, the dialogue.....oh God, don't get me started. James Cameron has obviously been spending far too much time with George Lucas. The dialogue is atrocious and painfully clichéd. There is no convincing character development at all. I can barely remember any of their names let alone have any sort of affinity with them. Sam Worthington is a waste of space. I don't know what this Hollywood fixation is with him, but he was terrible in Terminator Salvation and he is terrible in this. The cartoon, morally-vacant human 'baddies' are an insult to intelligence and unbelievable at every turn. The entire plot is 100% predictable. Of course we knew the humans weren't go to win. Of course not. Not with their space-travelling, cryo-genetic-using, high-tech weaponary-toting mentality. They didn't understand the forest, man. Please. This is almost as laughable as Return of the Jedi. And the lame efforts to instill some sort of sentimentality and moral message through the use of poorly-written pseudo-spiritual crap just made me cringe. I wasn't even that impressed with the character design. Cameron has basically taken Native American Indians and Antipodean Aborigines and turned them blue. They have similar attire, ride 'horses', shoot arrows etc etc. It was just all too familiar.Avatar may well be a technological breakthrough, and i look forward to others who take the technology on and remember to actually pair it with an original and compelling story, but for now though, this film is a bulging case of style over substance if ever there has been one.I miss Aliens. Now that was a convincing movie.4/10\n",
      "****\n"
     ]
    }
   ],
   "source": [
    "for i in soup_result:\n",
    "    print(i.text)\n",
    "    print(\"****\")"
   ]
  },
  {
   "cell_type": "code",
   "execution_count": null,
   "metadata": {},
   "outputs": [],
   "source": []
  }
 ],
 "metadata": {
  "kernelspec": {
   "display_name": "Python 3",
   "language": "python",
   "name": "python3"
  },
  "language_info": {
   "codemirror_mode": {
    "name": "ipython",
    "version": 3
   },
   "file_extension": ".py",
   "mimetype": "text/x-python",
   "name": "python",
   "nbconvert_exporter": "python",
   "pygments_lexer": "ipython3",
   "version": "3.7.4"
  }
 },
 "nbformat": 4,
 "nbformat_minor": 4
}
